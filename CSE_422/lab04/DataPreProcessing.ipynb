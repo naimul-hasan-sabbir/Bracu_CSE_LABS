{
  "nbformat": 4,
  "nbformat_minor": 0,
  "metadata": {
    "colab": {
      "name": "DataPreProcessing.ipynb",
      "provenance": [],
      "collapsed_sections": []
    },
    "kernelspec": {
      "name": "python3",
      "display_name": "Python 3"
    },
    "language_info": {
      "name": "python"
    }
  },
  "cells": [
    {
      "cell_type": "code",
      "metadata": {
        "id": "2LVpjrKMPU8L"
      },
      "source": [
        "import pandas as pd\n",
        "import numpy as np"
      ],
      "execution_count": null,
      "outputs": []
    },
    {
      "cell_type": "code",
      "metadata": {
        "colab": {
          "base_uri": "https://localhost:8080/"
        },
        "id": "BI0rfNExS432",
        "outputId": "eb8aac89-9cf2-4dde-dc05-77e694de8cb0"
      },
      "source": [
        "\n",
        "from google.colab import drive\n",
        "drive.mount('/content/drive')\n",
        "\n"
      ],
      "execution_count": null,
      "outputs": [
        {
          "output_type": "stream",
          "text": [
            "Mounted at /content/drive\n"
          ],
          "name": "stdout"
        }
      ]
    },
    {
      "cell_type": "code",
      "metadata": {
        "colab": {
          "base_uri": "https://localhost:8080/"
        },
        "id": "rWqhBQRqU2W0",
        "outputId": "9c604348-79b7-4b55-dd23-1120fc5a5cca"
      },
      "source": [
        "heartClassificationData = pd.read_csv('/content/drive/MyDrive/dataset/heart_disease_classification_dataset.csv')\n",
        "print(heartClassificationData)"
      ],
      "execution_count": null,
      "outputs": [
        {
          "output_type": "stream",
          "text": [
            "     Unnamed: 0  age     sex  cp  trestbps  ...  oldpeak  slope  ca  thal  target\n",
            "0             0   63    male   3     145.0  ...      2.3      0   0     1     yes\n",
            "1             1   37    male   2     130.0  ...      3.5      0   0     2     yes\n",
            "2             2   41  female   1     130.0  ...      1.4      2   0     2     yes\n",
            "3             3   56    male   1     120.0  ...      0.8      2   0     2     yes\n",
            "4             4   57  female   0       NaN  ...      0.6      2   0     2     yes\n",
            "..          ...  ...     ...  ..       ...  ...      ...    ...  ..   ...     ...\n",
            "298         298   57  female   0     140.0  ...      0.2      1   0     3      no\n",
            "299         299   45    male   3     110.0  ...      1.2      1   0     3      no\n",
            "300         300   68    male   0     144.0  ...      3.4      1   2     3      no\n",
            "301         301   57    male   0       NaN  ...      1.2      1   1     3      no\n",
            "302         302   57  female   1     130.0  ...      0.0      1   1     2      no\n",
            "\n",
            "[303 rows x 15 columns]\n"
          ],
          "name": "stdout"
        }
      ]
    },
    {
      "cell_type": "code",
      "metadata": {
        "colab": {
          "base_uri": "https://localhost:8080/"
        },
        "id": "GD_v5eXIwGxb",
        "outputId": "2ea3f7f1-47a7-46b9-fa91-a89a7384001f"
      },
      "source": [
        "heartClassificationData.shape"
      ],
      "execution_count": null,
      "outputs": [
        {
          "output_type": "execute_result",
          "data": {
            "text/plain": [
              "(303, 15)"
            ]
          },
          "metadata": {},
          "execution_count": 4
        }
      ]
    },
    {
      "cell_type": "code",
      "metadata": {
        "colab": {
          "base_uri": "https://localhost:8080/"
        },
        "id": "34qEkTFHwZia",
        "outputId": "be620205-b538-44f3-cd1b-c4ef76d23e53"
      },
      "source": [
        "heartClassificationData.isnull().sum()"
      ],
      "execution_count": null,
      "outputs": [
        {
          "output_type": "execute_result",
          "data": {
            "text/plain": [
              "Unnamed: 0    0\n",
              "age           0\n",
              "sex           0\n",
              "cp            0\n",
              "trestbps      4\n",
              "chol          1\n",
              "fbs           0\n",
              "restecg       0\n",
              "thalach       5\n",
              "exang         0\n",
              "oldpeak       0\n",
              "slope         0\n",
              "ca            0\n",
              "thal          0\n",
              "target        0\n",
              "dtype: int64"
            ]
          },
          "metadata": {},
          "execution_count": 5
        }
      ]
    },
    {
      "cell_type": "code",
      "metadata": {
        "colab": {
          "base_uri": "https://localhost:8080/"
        },
        "id": "bFQD2QgoyCQx",
        "outputId": "6c4435cd-2b4e-4d18-ed1f-5d36215180b0"
      },
      "source": [
        "dfSubset = heartClassificationData[heartClassificationData['chol'].notnull()]\n",
        "print(heartClassificationData.shape)"
      ],
      "execution_count": null,
      "outputs": [
        {
          "output_type": "stream",
          "text": [
            "(303, 15)\n"
          ],
          "name": "stdout"
        }
      ]
    },
    {
      "cell_type": "code",
      "metadata": {
        "colab": {
          "base_uri": "https://localhost:8080/"
        },
        "id": "NNzqHnXgymyx",
        "outputId": "4b57f5c3-2a70-4079-be1f-041840b09557"
      },
      "source": [
        "heartClassificationDataNew = heartClassificationData.dropna(axis=0,subset = ['thalach'])\n",
        "print('After dropping :', heartClassificationDataNew.shape)"
      ],
      "execution_count": null,
      "outputs": [
        {
          "output_type": "stream",
          "text": [
            "After dropping : (298, 15)\n"
          ],
          "name": "stdout"
        }
      ]
    },
    {
      "cell_type": "code",
      "metadata": {
        "colab": {
          "base_uri": "https://localhost:8080/"
        },
        "id": "IPMBiV3b0l-o",
        "outputId": "5ef1cda5-312d-48f7-d75c-b8d8279008df"
      },
      "source": [
        "heartClassificationDataNew1 = heartClassificationData.dropna(axis=0,subset = ['trestbps','thalach'])\n",
        "print('After dropping :', heartClassificationDataNew1.shape)"
      ],
      "execution_count": null,
      "outputs": [
        {
          "output_type": "stream",
          "text": [
            "After dropping : (294, 15)\n"
          ],
          "name": "stdout"
        }
      ]
    },
    {
      "cell_type": "code",
      "metadata": {
        "colab": {
          "base_uri": "https://localhost:8080/"
        },
        "id": "WXCGqMuP1BUv",
        "outputId": "57b793e6-47d9-4e49-dc7d-e2e5ecc8556a"
      },
      "source": [
        "heartClassificationDataNew1.isnull().sum()"
      ],
      "execution_count": null,
      "outputs": [
        {
          "output_type": "execute_result",
          "data": {
            "text/plain": [
              "Unnamed: 0    0\n",
              "age           0\n",
              "sex           0\n",
              "cp            0\n",
              "trestbps      0\n",
              "chol          1\n",
              "fbs           0\n",
              "restecg       0\n",
              "thalach       0\n",
              "exang         0\n",
              "oldpeak       0\n",
              "slope         0\n",
              "ca            0\n",
              "thal          0\n",
              "target        0\n",
              "dtype: int64"
            ]
          },
          "metadata": {},
          "execution_count": 9
        }
      ]
    },
    {
      "cell_type": "code",
      "metadata": {
        "id": "jMHS6oquzuX3",
        "colab": {
          "base_uri": "https://localhost:8080/"
        },
        "outputId": "3b66d2f7-dd91-4cb9-e835-2f323b4ad4a8"
      },
      "source": [
        "from sklearn.impute import SimpleImputer\n",
        "\n",
        "impute = SimpleImputer(missing_values=np.nan, strategy='mean')\n",
        "\n",
        "impute.fit(heartClassificationDataNew1[['chol']])\n",
        "\n",
        "heartClassificationDataNew1['chol'] = impute.transform(heartClassificationDataNew1[['chol']])"
      ],
      "execution_count": null,
      "outputs": [
        {
          "output_type": "stream",
          "text": [
            "/usr/local/lib/python3.7/dist-packages/ipykernel_launcher.py:7: SettingWithCopyWarning: \n",
            "A value is trying to be set on a copy of a slice from a DataFrame.\n",
            "Try using .loc[row_indexer,col_indexer] = value instead\n",
            "\n",
            "See the caveats in the documentation: https://pandas.pydata.org/pandas-docs/stable/user_guide/indexing.html#returning-a-view-versus-a-copy\n",
            "  import sys\n"
          ],
          "name": "stderr"
        }
      ]
    },
    {
      "cell_type": "code",
      "metadata": {
        "id": "EdZvPKK0jLFV",
        "colab": {
          "base_uri": "https://localhost:8080/"
        },
        "outputId": "aec04d26-2bb4-4252-942a-66f312a4fa45"
      },
      "source": [
        "heartClassificationDataNew1.isnull().sum()"
      ],
      "execution_count": null,
      "outputs": [
        {
          "output_type": "execute_result",
          "data": {
            "text/plain": [
              "Unnamed: 0    0\n",
              "age           0\n",
              "sex           0\n",
              "cp            0\n",
              "trestbps      0\n",
              "chol          0\n",
              "fbs           0\n",
              "restecg       0\n",
              "thalach       0\n",
              "exang         0\n",
              "oldpeak       0\n",
              "slope         0\n",
              "ca            0\n",
              "thal          0\n",
              "target        0\n",
              "dtype: int64"
            ]
          },
          "metadata": {},
          "execution_count": 12
        }
      ]
    },
    {
      "cell_type": "code",
      "metadata": {
        "colab": {
          "base_uri": "https://localhost:8080/"
        },
        "id": "uQnczOZ3dm1I",
        "outputId": "39a00bff-34e2-471c-87f3-a25c3d9f0c12"
      },
      "source": [
        "heartClassificationDataNew1.shape"
      ],
      "execution_count": null,
      "outputs": [
        {
          "output_type": "execute_result",
          "data": {
            "text/plain": [
              "(294, 15)"
            ]
          },
          "metadata": {},
          "execution_count": 13
        }
      ]
    },
    {
      "cell_type": "code",
      "metadata": {
        "id": "ny3gAPZGmfGq"
      },
      "source": [
        "from sklearn.model_selection import train_test_split"
      ],
      "execution_count": null,
      "outputs": []
    },
    {
      "cell_type": "code",
      "metadata": {
        "colab": {
          "base_uri": "https://localhost:8080/"
        },
        "id": "A5sfWRu0guZG",
        "outputId": "b1bb2170-46a7-489b-d717-162249260396"
      },
      "source": [
        "from sklearn.preprocessing import LabelEncoder\n",
        "\n",
        "changing = LabelEncoder()\n",
        "\n",
        "heartClassificationDataNew1['sex'] = changing.fit_transform(heartClassificationDataNew1['sex'])\n",
        "\n",
        "print(heartClassificationDataNew1[['sex']].head())"
      ],
      "execution_count": null,
      "outputs": [
        {
          "output_type": "stream",
          "text": [
            "   sex\n",
            "0    1\n",
            "1    1\n",
            "2    0\n",
            "3    1\n",
            "5    1\n"
          ],
          "name": "stdout"
        },
        {
          "output_type": "stream",
          "text": [
            "/usr/local/lib/python3.7/dist-packages/ipykernel_launcher.py:7: SettingWithCopyWarning: \n",
            "A value is trying to be set on a copy of a slice from a DataFrame.\n",
            "Try using .loc[row_indexer,col_indexer] = value instead\n",
            "\n",
            "See the caveats in the documentation: https://pandas.pydata.org/pandas-docs/stable/user_guide/indexing.html#returning-a-view-versus-a-copy\n",
            "  import sys\n"
          ],
          "name": "stderr"
        }
      ]
    },
    {
      "cell_type": "code",
      "metadata": {
        "id": "ZpdJfi_Jd7i_"
      },
      "source": [
        "x = heartClassificationDataNew1.drop(columns='target',axis=1)\n",
        "y = heartClassificationDataNew1['target'] "
      ],
      "execution_count": null,
      "outputs": []
    },
    {
      "cell_type": "code",
      "metadata": {
        "colab": {
          "base_uri": "https://localhost:8080/"
        },
        "id": "M46ss2c4mqPJ",
        "outputId": "c9f77a05-944f-458d-a153-e7a32fe1422c"
      },
      "source": [
        "print(x)"
      ],
      "execution_count": null,
      "outputs": [
        {
          "output_type": "stream",
          "text": [
            "     Unnamed: 0  age  sex  cp  trestbps  ...  exang  oldpeak  slope  ca  thal\n",
            "0             0   63    1   3     145.0  ...      0      2.3      0   0     1\n",
            "1             1   37    1   2     130.0  ...      0      3.5      0   0     2\n",
            "2             2   41    0   1     130.0  ...      0      1.4      2   0     2\n",
            "3             3   56    1   1     120.0  ...      0      0.8      2   0     2\n",
            "5             5   57    1   0     140.0  ...      0      0.4      1   0     1\n",
            "..          ...  ...  ...  ..       ...  ...    ...      ...    ...  ..   ...\n",
            "296         296   63    0   0     124.0  ...      1      0.0      1   0     2\n",
            "298         298   57    0   0     140.0  ...      1      0.2      1   0     3\n",
            "299         299   45    1   3     110.0  ...      0      1.2      1   0     3\n",
            "300         300   68    1   0     144.0  ...      0      3.4      1   2     3\n",
            "302         302   57    0   1     130.0  ...      0      0.0      1   1     2\n",
            "\n",
            "[294 rows x 14 columns]\n"
          ],
          "name": "stdout"
        }
      ]
    },
    {
      "cell_type": "code",
      "metadata": {
        "colab": {
          "base_uri": "https://localhost:8080/"
        },
        "id": "BM5xxkE0mtMj",
        "outputId": "22dd321a-f546-4604-edc7-407e7bf81368"
      },
      "source": [
        "print(y)"
      ],
      "execution_count": null,
      "outputs": [
        {
          "output_type": "stream",
          "text": [
            "0      yes\n",
            "1      yes\n",
            "2      yes\n",
            "3      yes\n",
            "5      yes\n",
            "      ... \n",
            "296     no\n",
            "298     no\n",
            "299     no\n",
            "300     no\n",
            "302     no\n",
            "Name: target, Length: 294, dtype: object\n"
          ],
          "name": "stdout"
        }
      ]
    },
    {
      "cell_type": "code",
      "metadata": {
        "colab": {
          "base_uri": "https://localhost:8080/"
        },
        "id": "6WUhhBG1ng9B",
        "outputId": "f3444547-e642-45e1-a311-e46bbb56feb9"
      },
      "source": [
        "X_train, X_test, y_train, y_test = train_test_split(x, y, random_state=1)\n",
        "print(X_train.shape)\n",
        "print(X_test.shape)"
      ],
      "execution_count": null,
      "outputs": [
        {
          "output_type": "stream",
          "text": [
            "(220, 14)\n",
            "(74, 14)\n"
          ],
          "name": "stdout"
        }
      ]
    },
    {
      "cell_type": "code",
      "metadata": {
        "colab": {
          "base_uri": "https://localhost:8080/"
        },
        "id": "IDVk1s0ysP2z",
        "outputId": "a9d76bd9-a1cb-4b21-970d-2e9534d903d3"
      },
      "source": [
        "X_train, X_test, y_train, y_test = train_test_split(x, y, random_state=1)\n",
        "print(X_train.shape)\n",
        "print(X_test.shape)"
      ],
      "execution_count": null,
      "outputs": [
        {
          "output_type": "stream",
          "text": [
            "(220, 14)\n",
            "(74, 14)\n"
          ],
          "name": "stdout"
        }
      ]
    },
    {
      "cell_type": "code",
      "metadata": {
        "colab": {
          "base_uri": "https://localhost:8080/"
        },
        "id": "5MYdUScPsbel",
        "outputId": "b08c9062-438a-4981-d15a-2c81c1f7150a"
      },
      "source": [
        "from sklearn.preprocessing import MinMaxScaler\n",
        "\n",
        "scalingDataset = MinMaxScaler()\n",
        "\n",
        "scalingDataset.fit(X_train)"
      ],
      "execution_count": null,
      "outputs": [
        {
          "output_type": "execute_result",
          "data": {
            "text/plain": [
              "MinMaxScaler(copy=True, feature_range=(0, 1))"
            ]
          },
          "metadata": {},
          "execution_count": 23
        }
      ]
    },
    {
      "cell_type": "code",
      "metadata": {
        "id": "KXgmEfIwsl0b"
      },
      "source": [
        "X_train_scaled = scalingDataset.transform(X_train)"
      ],
      "execution_count": null,
      "outputs": []
    },
    {
      "cell_type": "code",
      "metadata": {
        "colab": {
          "base_uri": "https://localhost:8080/"
        },
        "id": "tT0Op6tisqOS",
        "outputId": "27b8ca5d-a50e-4d87-fc6a-aba5801ca855"
      },
      "source": [
        "print(\"per feature minimum value after scaling dataset:\\n {}\".format(\n",
        "    X_train_scaled.min(axis=0)))\n",
        "print(\"per feature maximum value after scaling dataset:\\n {}\".format(\n",
        "    X_train_scaled.max(axis=0)))"
      ],
      "execution_count": null,
      "outputs": [
        {
          "output_type": "stream",
          "text": [
            "per feature minimum value after scaling dataset:\n",
            " [0. 0. 0. 0. 0. 0. 0. 0. 0. 0. 0. 0. 0. 0.]\n",
            "per feature maximum value after scaling dataset:\n",
            " [1. 1. 1. 1. 1. 1. 1. 1. 1. 1. 1. 1. 1. 1.]\n"
          ],
          "name": "stdout"
        }
      ]
    },
    {
      "cell_type": "code",
      "metadata": {
        "id": "NipXYV4wsxoL"
      },
      "source": [
        "X_test_scaled = scalingDataset.transform(X_test)"
      ],
      "execution_count": null,
      "outputs": []
    },
    {
      "cell_type": "code",
      "metadata": {
        "id": "Y0dD-et-s7is",
        "colab": {
          "base_uri": "https://localhost:8080/"
        },
        "outputId": "cb6ab5d6-0c46-42c7-f1b5-67fff8a222e9"
      },
      "source": [
        "from sklearn.neighbors import KNeighborsClassifier\n",
        "X_train, X_test, y_train, y_test = train_test_split(x, y,\n",
        "                                                    random_state=2)\n",
        "knnOnDataset=KNeighborsClassifier()\n",
        "\n",
        "knnOnDataset.fit(X_train, y_train)\n",
        "\n",
        "print(\"Test set accuracy: {:.2f}\".format(knnOnDataset.score(X_test, y_test)))"
      ],
      "execution_count": null,
      "outputs": [
        {
          "output_type": "stream",
          "text": [
            "Test set accuracy: 0.93\n"
          ],
          "name": "stdout"
        }
      ]
    }
  ]
}