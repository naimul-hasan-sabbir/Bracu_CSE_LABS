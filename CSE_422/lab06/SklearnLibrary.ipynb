{
 "cells": [
  {
   "cell_type": "code",
   "execution_count": 1,
   "metadata": {
    "id": "JqiC51ph_jJ3"
   },
   "outputs": [],
   "source": [
    "import pandas as pd\n",
    "import numpy as np"
   ]
  },
  {
   "cell_type": "code",
   "execution_count": 2,
   "metadata": {
    "colab": {
     "base_uri": "https://localhost:8080/",
     "height": 203
    },
    "id": "EcKjoB2hACZ4",
    "outputId": "8f4e85e7-6f03-4872-c27f-f1a2474d9956"
   },
   "outputs": [
    {
     "data": {
      "text/html": [
       "<div>\n",
       "<style scoped>\n",
       "    .dataframe tbody tr th:only-of-type {\n",
       "        vertical-align: middle;\n",
       "    }\n",
       "\n",
       "    .dataframe tbody tr th {\n",
       "        vertical-align: top;\n",
       "    }\n",
       "\n",
       "    .dataframe thead th {\n",
       "        text-align: right;\n",
       "    }\n",
       "</style>\n",
       "<table border=\"1\" class=\"dataframe\">\n",
       "  <thead>\n",
       "    <tr style=\"text-align: right;\">\n",
       "      <th></th>\n",
       "      <th>Unnamed: 0</th>\n",
       "      <th>age</th>\n",
       "      <th>sex</th>\n",
       "      <th>cp</th>\n",
       "      <th>trestbps</th>\n",
       "      <th>chol</th>\n",
       "      <th>fbs</th>\n",
       "      <th>restecg</th>\n",
       "      <th>thalach</th>\n",
       "      <th>exang</th>\n",
       "      <th>oldpeak</th>\n",
       "      <th>slope</th>\n",
       "      <th>ca</th>\n",
       "      <th>thal</th>\n",
       "      <th>target</th>\n",
       "    </tr>\n",
       "  </thead>\n",
       "  <tbody>\n",
       "    <tr>\n",
       "      <th>0</th>\n",
       "      <td>0</td>\n",
       "      <td>63</td>\n",
       "      <td>male</td>\n",
       "      <td>3</td>\n",
       "      <td>145.0</td>\n",
       "      <td>233.0</td>\n",
       "      <td>1</td>\n",
       "      <td>0</td>\n",
       "      <td>150.0</td>\n",
       "      <td>0</td>\n",
       "      <td>2.3</td>\n",
       "      <td>0</td>\n",
       "      <td>0</td>\n",
       "      <td>1</td>\n",
       "      <td>yes</td>\n",
       "    </tr>\n",
       "    <tr>\n",
       "      <th>1</th>\n",
       "      <td>1</td>\n",
       "      <td>37</td>\n",
       "      <td>male</td>\n",
       "      <td>2</td>\n",
       "      <td>130.0</td>\n",
       "      <td>250.0</td>\n",
       "      <td>0</td>\n",
       "      <td>1</td>\n",
       "      <td>187.0</td>\n",
       "      <td>0</td>\n",
       "      <td>3.5</td>\n",
       "      <td>0</td>\n",
       "      <td>0</td>\n",
       "      <td>2</td>\n",
       "      <td>yes</td>\n",
       "    </tr>\n",
       "    <tr>\n",
       "      <th>2</th>\n",
       "      <td>2</td>\n",
       "      <td>41</td>\n",
       "      <td>female</td>\n",
       "      <td>1</td>\n",
       "      <td>130.0</td>\n",
       "      <td>204.0</td>\n",
       "      <td>0</td>\n",
       "      <td>0</td>\n",
       "      <td>172.0</td>\n",
       "      <td>0</td>\n",
       "      <td>1.4</td>\n",
       "      <td>2</td>\n",
       "      <td>0</td>\n",
       "      <td>2</td>\n",
       "      <td>yes</td>\n",
       "    </tr>\n",
       "    <tr>\n",
       "      <th>3</th>\n",
       "      <td>3</td>\n",
       "      <td>56</td>\n",
       "      <td>male</td>\n",
       "      <td>1</td>\n",
       "      <td>120.0</td>\n",
       "      <td>236.0</td>\n",
       "      <td>0</td>\n",
       "      <td>1</td>\n",
       "      <td>178.0</td>\n",
       "      <td>0</td>\n",
       "      <td>0.8</td>\n",
       "      <td>2</td>\n",
       "      <td>0</td>\n",
       "      <td>2</td>\n",
       "      <td>yes</td>\n",
       "    </tr>\n",
       "    <tr>\n",
       "      <th>4</th>\n",
       "      <td>4</td>\n",
       "      <td>57</td>\n",
       "      <td>female</td>\n",
       "      <td>0</td>\n",
       "      <td>NaN</td>\n",
       "      <td>354.0</td>\n",
       "      <td>0</td>\n",
       "      <td>1</td>\n",
       "      <td>163.0</td>\n",
       "      <td>1</td>\n",
       "      <td>0.6</td>\n",
       "      <td>2</td>\n",
       "      <td>0</td>\n",
       "      <td>2</td>\n",
       "      <td>yes</td>\n",
       "    </tr>\n",
       "  </tbody>\n",
       "</table>\n",
       "</div>"
      ],
      "text/plain": [
       "   Unnamed: 0  age     sex  cp  trestbps   chol  fbs  restecg  thalach  exang  \\\n",
       "0           0   63    male   3     145.0  233.0    1        0    150.0      0   \n",
       "1           1   37    male   2     130.0  250.0    0        1    187.0      0   \n",
       "2           2   41  female   1     130.0  204.0    0        0    172.0      0   \n",
       "3           3   56    male   1     120.0  236.0    0        1    178.0      0   \n",
       "4           4   57  female   0       NaN  354.0    0        1    163.0      1   \n",
       "\n",
       "   oldpeak  slope  ca  thal target  \n",
       "0      2.3      0   0     1    yes  \n",
       "1      3.5      0   0     2    yes  \n",
       "2      1.4      2   0     2    yes  \n",
       "3      0.8      2   0     2    yes  \n",
       "4      0.6      2   0     2    yes  "
      ]
     },
     "execution_count": 2,
     "metadata": {},
     "output_type": "execute_result"
    }
   ],
   "source": [
    "heartClassificationData = pd.read_csv('heart disease classification dataset.csv')\n",
    "#print(heartClassificationData)\n",
    "heartClassificationData.head()"
   ]
  },
  {
   "cell_type": "code",
   "execution_count": 3,
   "metadata": {
    "colab": {
     "base_uri": "https://localhost:8080/"
    },
    "id": "gzfdcc_MAFFH",
    "outputId": "ee31ebdc-01f3-4ffd-8dff-de0b5848047c"
   },
   "outputs": [
    {
     "data": {
      "text/plain": [
       "Unnamed: 0    0\n",
       "age           0\n",
       "sex           0\n",
       "cp            0\n",
       "trestbps      4\n",
       "chol          1\n",
       "fbs           0\n",
       "restecg       0\n",
       "thalach       5\n",
       "exang         0\n",
       "oldpeak       0\n",
       "slope         0\n",
       "ca            0\n",
       "thal          0\n",
       "target        0\n",
       "dtype: int64"
      ]
     },
     "execution_count": 3,
     "metadata": {},
     "output_type": "execute_result"
    }
   ],
   "source": [
    "heartClassificationData.isnull().sum()"
   ]
  },
  {
   "cell_type": "code",
   "execution_count": 4,
   "metadata": {
    "colab": {
     "base_uri": "https://localhost:8080/"
    },
    "id": "_-5FjzOQA4XQ",
    "outputId": "3e891b06-8ea4-4872-fc17-efd98a989433"
   },
   "outputs": [
    {
     "name": "stdout",
     "output_type": "stream",
     "text": [
      "(303, 14)\n"
     ]
    }
   ],
   "source": [
    "heartClassificationDataNew1 = heartClassificationData.drop('Unnamed: 0',axis = 1)\n",
    "print(heartClassificationDataNew1.shape)"
   ]
  },
  {
   "cell_type": "code",
   "execution_count": 5,
   "metadata": {},
   "outputs": [],
   "source": [
    "from sklearn.impute import SimpleImputer\n",
    "\n",
    "impute = SimpleImputer(missing_values=np.nan, strategy='mean')\n",
    "\n",
    "impute.fit(heartClassificationDataNew1[['trestbps']])\n",
    "\n",
    "\n",
    "heartClassificationDataNew1['trestbps'] = impute.transform(heartClassificationDataNew1[['trestbps']])"
   ]
  },
  {
   "cell_type": "code",
   "execution_count": 6,
   "metadata": {},
   "outputs": [],
   "source": [
    "from sklearn.impute import SimpleImputer\n",
    "\n",
    "impute = SimpleImputer(missing_values=np.nan, strategy='mean')\n",
    "\n",
    "impute.fit(heartClassificationDataNew1[['thalach']])\n",
    "\n",
    "heartClassificationDataNew1['thalach'] = impute.transform(heartClassificationDataNew1[['thalach']])"
   ]
  },
  {
   "cell_type": "code",
   "execution_count": 7,
   "metadata": {
    "id": "nVaoeo-KA774"
   },
   "outputs": [],
   "source": [
    "#heartClassificationDataNew1 = heartClassificationDataNew1.drop('Unnamed: 0',axis = 1)"
   ]
  },
  {
   "cell_type": "code",
   "execution_count": 8,
   "metadata": {
    "colab": {
     "base_uri": "https://localhost:8080/"
    },
    "id": "17-hyecpA-5Q",
    "outputId": "7fff610d-bf6a-4715-b487-0c1c19d857df"
   },
   "outputs": [
    {
     "data": {
      "text/plain": [
       "age         0\n",
       "sex         0\n",
       "cp          0\n",
       "trestbps    0\n",
       "chol        1\n",
       "fbs         0\n",
       "restecg     0\n",
       "thalach     0\n",
       "exang       0\n",
       "oldpeak     0\n",
       "slope       0\n",
       "ca          0\n",
       "thal        0\n",
       "target      0\n",
       "dtype: int64"
      ]
     },
     "execution_count": 8,
     "metadata": {},
     "output_type": "execute_result"
    }
   ],
   "source": [
    "heartClassificationDataNew1.isnull().sum()"
   ]
  },
  {
   "cell_type": "code",
   "execution_count": 9,
   "metadata": {
    "id": "dwpSUYW1BBrw"
   },
   "outputs": [],
   "source": [
    "from sklearn.impute import SimpleImputer\n",
    "\n",
    "impute = SimpleImputer(missing_values=np.nan, strategy='mean')\n",
    "\n",
    "impute.fit(heartClassificationDataNew1[['chol']])\n",
    "\n",
    "heartClassificationDataNew1['chol'] = impute.transform(heartClassificationDataNew1[['chol']])"
   ]
  },
  {
   "cell_type": "code",
   "execution_count": 10,
   "metadata": {
    "colab": {
     "base_uri": "https://localhost:8080/"
    },
    "id": "SeQwMW1zBEzQ",
    "outputId": "843ad941-d48a-42d1-80e7-aae34b33e100"
   },
   "outputs": [
    {
     "name": "stdout",
     "output_type": "stream",
     "text": [
      "   sex\n",
      "0    1\n",
      "1    1\n",
      "2    0\n",
      "3    1\n",
      "4    0\n"
     ]
    }
   ],
   "source": [
    "from sklearn.preprocessing import LabelEncoder\n",
    "\n",
    "changing = LabelEncoder()\n",
    "\n",
    "heartClassificationDataNew1['sex'] = changing.fit_transform(heartClassificationDataNew1['sex'])\n",
    "\n",
    "print(heartClassificationDataNew1[['sex']].head())"
   ]
  },
  {
   "cell_type": "code",
   "execution_count": 11,
   "metadata": {
    "colab": {
     "base_uri": "https://localhost:8080/"
    },
    "id": "4JNOQOpwBJHg",
    "outputId": "025946bd-5bc4-4303-d1f0-5ad43858df63"
   },
   "outputs": [
    {
     "name": "stdout",
     "output_type": "stream",
     "text": [
      "   target\n",
      "0       1\n",
      "1       1\n",
      "2       1\n",
      "3       1\n",
      "4       1\n"
     ]
    }
   ],
   "source": [
    "from sklearn.preprocessing import LabelEncoder\n",
    "\n",
    "changing = LabelEncoder()\n",
    "\n",
    "heartClassificationDataNew1['target'] = changing.fit_transform(heartClassificationDataNew1['target'])\n",
    "\n",
    "print(heartClassificationDataNew1[['target']].head())"
   ]
  },
  {
   "cell_type": "code",
   "execution_count": 12,
   "metadata": {},
   "outputs": [
    {
     "data": {
      "text/plain": [
       "age         0\n",
       "sex         0\n",
       "cp          0\n",
       "trestbps    0\n",
       "chol        0\n",
       "fbs         0\n",
       "restecg     0\n",
       "thalach     0\n",
       "exang       0\n",
       "oldpeak     0\n",
       "slope       0\n",
       "ca          0\n",
       "thal        0\n",
       "target      0\n",
       "dtype: int64"
      ]
     },
     "execution_count": 12,
     "metadata": {},
     "output_type": "execute_result"
    }
   ],
   "source": [
    "heartClassificationDataNew1.isnull().sum()"
   ]
  },
  {
   "cell_type": "code",
   "execution_count": 13,
   "metadata": {
    "id": "0u6MXkavBRH_"
   },
   "outputs": [],
   "source": [
    "from sklearn.model_selection import train_test_split"
   ]
  },
  {
   "cell_type": "code",
   "execution_count": 14,
   "metadata": {
    "id": "U2r1FOyaBT7p"
   },
   "outputs": [],
   "source": [
    "x = heartClassificationDataNew1.drop(columns='target',axis=1)\n",
    "y = heartClassificationDataNew1['target'] "
   ]
  },
  {
   "cell_type": "code",
   "execution_count": 15,
   "metadata": {
    "colab": {
     "base_uri": "https://localhost:8080/"
    },
    "id": "EH8BjMXdBWyI",
    "outputId": "c022e7c6-ac9b-451e-91c8-302aad588b8b"
   },
   "outputs": [
    {
     "name": "stdout",
     "output_type": "stream",
     "text": [
      "0      1\n",
      "1      1\n",
      "2      1\n",
      "3      1\n",
      "4      1\n",
      "      ..\n",
      "298    0\n",
      "299    0\n",
      "300    0\n",
      "301    0\n",
      "302    0\n",
      "Name: target, Length: 303, dtype: int32\n"
     ]
    }
   ],
   "source": [
    "print(y)"
   ]
  },
  {
   "cell_type": "code",
   "execution_count": 16,
   "metadata": {
    "colab": {
     "base_uri": "https://localhost:8080/"
    },
    "id": "MIJ6nK77BY4R",
    "outputId": "1154cbbc-25cc-4f44-e9bd-ce836d4eb405"
   },
   "outputs": [
    {
     "name": "stdout",
     "output_type": "stream",
     "text": [
      "     age  sex  cp    trestbps   chol  fbs  restecg  thalach  exang  oldpeak  \\\n",
      "0     63    1   3  145.000000  233.0    1        0    150.0      0      2.3   \n",
      "1     37    1   2  130.000000  250.0    0        1    187.0      0      3.5   \n",
      "2     41    0   1  130.000000  204.0    0        0    172.0      0      1.4   \n",
      "3     56    1   1  120.000000  236.0    0        1    178.0      0      0.8   \n",
      "4     57    0   0  131.712375  354.0    0        1    163.0      1      0.6   \n",
      "..   ...  ...  ..         ...    ...  ...      ...      ...    ...      ...   \n",
      "298   57    0   0  140.000000  241.0    0        1    123.0      1      0.2   \n",
      "299   45    1   3  110.000000  264.0    0        1    132.0      0      1.2   \n",
      "300   68    1   0  144.000000  193.0    1        1    141.0      0      3.4   \n",
      "301   57    1   0  131.712375  131.0    0        1    115.0      1      1.2   \n",
      "302   57    0   1  130.000000  236.0    0        0    174.0      0      0.0   \n",
      "\n",
      "     slope  ca  thal  \n",
      "0        0   0     1  \n",
      "1        0   0     2  \n",
      "2        2   0     2  \n",
      "3        2   0     2  \n",
      "4        2   0     2  \n",
      "..     ...  ..   ...  \n",
      "298      1   0     3  \n",
      "299      1   0     3  \n",
      "300      1   2     3  \n",
      "301      1   1     3  \n",
      "302      1   1     2  \n",
      "\n",
      "[303 rows x 13 columns]\n"
     ]
    }
   ],
   "source": [
    "print(x)"
   ]
  },
  {
   "cell_type": "code",
   "execution_count": 17,
   "metadata": {
    "colab": {
     "base_uri": "https://localhost:8080/"
    },
    "id": "tw7NxL5oBbXQ",
    "outputId": "f31e76dd-294a-4594-8f5c-b5e3e99418fe"
   },
   "outputs": [
    {
     "name": "stdout",
     "output_type": "stream",
     "text": [
      "(242, 13)\n",
      "(61, 13)\n"
     ]
    }
   ],
   "source": [
    "X_train, X_test, y_train, y_test = train_test_split(x, y, test_size = 0.2, random_state=1)\n",
    "print(X_train.shape)\n",
    "print(X_test.shape)"
   ]
  },
  {
   "cell_type": "code",
   "execution_count": 18,
   "metadata": {
    "colab": {
     "base_uri": "https://localhost:8080/"
    },
    "id": "FWptAspVBf1v",
    "outputId": "73b0d575-01be-4fe8-e2ce-19a3423d8fd9"
   },
   "outputs": [
    {
     "data": {
      "text/plain": [
       "MinMaxScaler()"
      ]
     },
     "execution_count": 18,
     "metadata": {},
     "output_type": "execute_result"
    }
   ],
   "source": [
    "from sklearn.preprocessing import MinMaxScaler\n",
    "\n",
    "scalingDataset = MinMaxScaler()\n",
    "\n",
    "scalingDataset.fit(X_train)"
   ]
  },
  {
   "cell_type": "code",
   "execution_count": 19,
   "metadata": {
    "id": "FSuBzVkk0KO9"
   },
   "outputs": [],
   "source": [
    "X_train_scaled = scalingDataset.transform(X_train)"
   ]
  },
  {
   "cell_type": "code",
   "execution_count": 20,
   "metadata": {
    "id": "-Am4kIjd0LHs"
   },
   "outputs": [],
   "source": [
    "X_test_scaled = scalingDataset.transform(X_test)"
   ]
  },
  {
   "cell_type": "markdown",
   "metadata": {
    "id": "zXompwU9aN9h"
   },
   "source": [
    "**Support Vector Machine (SVM)**"
   ]
  },
  {
   "cell_type": "code",
   "execution_count": 21,
   "metadata": {
    "colab": {
     "base_uri": "https://localhost:8080/"
    },
    "id": "Jfj9TekKy04Q",
    "outputId": "fc5e421e-0477-4228-a998-4e13909006fa"
   },
   "outputs": [
    {
     "data": {
      "text/plain": [
       "SVC(kernel='linear')"
      ]
     },
     "execution_count": 21,
     "metadata": {},
     "output_type": "execute_result"
    }
   ],
   "source": [
    "from sklearn.svm import SVC\n",
    "svc = SVC(kernel=\"linear\")\n",
    "svc.fit(X_train, y_train)"
   ]
  },
  {
   "cell_type": "code",
   "execution_count": 22,
   "metadata": {
    "colab": {
     "base_uri": "https://localhost:8080/"
    },
    "id": "zW4oQCjUy8Hk",
    "outputId": "fc0cd7c6-6831-494b-a298-1f20c64e6e81"
   },
   "outputs": [
    {
     "name": "stdout",
     "output_type": "stream",
     "text": [
      "Training accuracy of the model is 0.86\n",
      "Testing accuracy of the model is 0.72\n"
     ]
    }
   ],
   "source": [
    "print(\"Training accuracy of the model is {:.2f}\".format(svc.score(X_train, y_train)))\n",
    "print(\"Testing accuracy of the model is {:.2f}\".format(svc.score(X_test, y_test)))"
   ]
  },
  {
   "cell_type": "code",
   "execution_count": 23,
   "metadata": {},
   "outputs": [
    {
     "name": "stdout",
     "output_type": "stream",
     "text": [
      "0.7213114754098361\n"
     ]
    }
   ],
   "source": [
    "pre_svm_accuracy = svc.score(X_test,y_test)\n",
    "print(pre_svm_accuracy)"
   ]
  },
  {
   "cell_type": "code",
   "execution_count": 24,
   "metadata": {
    "colab": {
     "base_uri": "https://localhost:8080/"
    },
    "id": "ei09eFn30jRb",
    "outputId": "9fbddcb6-4127-4763-dd45-f9112bf7d703"
   },
   "outputs": [
    {
     "name": "stdout",
     "output_type": "stream",
     "text": [
      "[0 1 0 0 0 0 0 1 0 1 0 0 1 0 0 1 1 0 0 1 1 0 1 1 1 1 0 1 1 1 1 1 1 1 0 0 0\n",
      " 0 1 0 1 0 0 0 1 1 0 1 1 1 1 1 1 1 1 1 1 0 1 0 0]\n"
     ]
    }
   ],
   "source": [
    "predictions = svc.predict(X_test)\n",
    "print(predictions)"
   ]
  },
  {
   "cell_type": "code",
   "execution_count": 25,
   "metadata": {
    "colab": {
     "base_uri": "https://localhost:8080/"
    },
    "id": "0EgWJI0f0nFE",
    "outputId": "922dcb65-dfd9-4b85-8c97-5d9d11935637"
   },
   "outputs": [
    {
     "name": "stdout",
     "output_type": "stream",
     "text": [
      "[[20  7]\n",
      " [10 24]]\n"
     ]
    }
   ],
   "source": [
    "from sklearn.metrics import confusion_matrix\n",
    "mat=confusion_matrix(predictions, y_test)\n",
    "print(mat)"
   ]
  },
  {
   "cell_type": "code",
   "execution_count": 26,
   "metadata": {
    "colab": {
     "base_uri": "https://localhost:8080/",
     "height": 302
    },
    "id": "fRlYc42C0YNN",
    "outputId": "676737d7-f9b3-435b-98c5-d465e536a5aa"
   },
   "outputs": [
    {
     "data": {
      "text/plain": [
       "<AxesSubplot:>"
      ]
     },
     "execution_count": 26,
     "metadata": {},
     "output_type": "execute_result"
    },
    {
     "data": {
      "image/png": "[encoded data removed]",
      "text/plain": [
       "<Figure size 432x288 with 2 Axes>"
      ]
     },
     "metadata": {
      "needs_background": "light"
     },
     "output_type": "display_data"
    }
   ],
   "source": [
    "from seaborn import heatmap\n",
    "heatmap(mat , cmap=\"Pastel1_r\", xticklabels=['class_0' ,'class_1' ,'class_2'], yticklabels=['class_0' ,'class_1', 'class_2'], annot=True)"
   ]
  },
  {
   "cell_type": "markdown",
   "metadata": {
    "id": "E7_bj2ouadBi"
   },
   "source": [
    "**Random Forest**"
   ]
  },
  {
   "cell_type": "code",
   "execution_count": 27,
   "metadata": {
    "colab": {
     "base_uri": "https://localhost:8080/",
     "height": 471
    },
    "id": "LsBEW-U11ONG",
    "outputId": "357b0a05-2b3a-4a7e-deed-1c61c9a0cccb"
   },
   "outputs": [
    {
     "data": {
      "text/plain": [
       "RandomForestClassifier(n_estimators=50)"
      ]
     },
     "execution_count": 27,
     "metadata": {},
     "output_type": "execute_result"
    }
   ],
   "source": [
    "from sklearn.ensemble import RandomForestClassifier\n",
    "rfc = RandomForestClassifier(n_estimators=50)\n",
    "rfc.fit(X_train, y_train)"
   ]
  },
  {
   "cell_type": "code",
   "execution_count": 28,
   "metadata": {
    "id": "8j4lfnVu1SRk"
   },
   "outputs": [
    {
     "name": "stdout",
     "output_type": "stream",
     "text": [
      "The Training accuracy of the model is 1.00\n",
      "The Testing accuracy of the model is 0.75\n"
     ]
    }
   ],
   "source": [
    "print(\"The Training accuracy of the model is {:.2f}\".format(rfc.score(X_train, y_train)))\n",
    "print(\"The Testing accuracy of the model is {:.2f}\".format(rfc.score(X_test, y_test)))"
   ]
  },
  {
   "cell_type": "code",
   "execution_count": 29,
   "metadata": {},
   "outputs": [
    {
     "name": "stdout",
     "output_type": "stream",
     "text": [
      "0.7540983606557377\n"
     ]
    }
   ],
   "source": [
    "pre_rfc_accuracy =rfc.score(X_test,y_test)\n",
    "print(pre_rfc_accuracy)"
   ]
  },
  {
   "cell_type": "code",
   "execution_count": 30,
   "metadata": {
    "id": "sxgbv6Vg1Y-F"
   },
   "outputs": [],
   "source": [
    "predictions = rfc.predict(X_test)"
   ]
  },
  {
   "cell_type": "code",
   "execution_count": 31,
   "metadata": {
    "id": "nOuvAIfe1gKc"
   },
   "outputs": [
    {
     "name": "stdout",
     "output_type": "stream",
     "text": [
      "[[20  5]\n",
      " [10 26]]\n"
     ]
    }
   ],
   "source": [
    "from sklearn.metrics import confusion_matrix\n",
    "mat=confusion_matrix(predictions, y_test)\n",
    "print(mat)"
   ]
  },
  {
   "cell_type": "code",
   "execution_count": 32,
   "metadata": {
    "id": "O2NVNmVe1ii8"
   },
   "outputs": [
    {
     "data": {
      "text/plain": [
       "<AxesSubplot:>"
      ]
     },
     "execution_count": 32,
     "metadata": {},
     "output_type": "execute_result"
    },
    {
     "data": {
      "image/png": "[encoded data removed]",
      "text/plain": [
       "<Figure size 432x288 with 2 Axes>"
      ]
     },
     "metadata": {
      "needs_background": "light"
     },
     "output_type": "display_data"
    }
   ],
   "source": [
    "from seaborn import heatmap\n",
    "heatmap(mat , cmap=\"Pastel1_r\", xticklabels=['class_0' ,'class_1' ,'class_2'], yticklabels=['class_0' ,'class_1', 'class_2'], annot=True)"
   ]
  },
  {
   "cell_type": "markdown",
   "metadata": {
    "id": "L6eNCQ6caj7p"
   },
   "source": [
    "**Neural Network (Multilayer Perceptron Classifier)**"
   ]
  },
  {
   "cell_type": "code",
   "execution_count": 33,
   "metadata": {
    "id": "PZxgcNhg1vml"
   },
   "outputs": [],
   "source": [
    "from sklearn.neural_network import MLPClassifier\n",
    "neuralNetworkClassifier=MLPClassifier(hidden_layer_sizes=(7), activation=\"relu\", max_iter=10000)"
   ]
  },
  {
   "cell_type": "code",
   "execution_count": 34,
   "metadata": {
    "id": "Fb8nYjn41-TX"
   },
   "outputs": [
    {
     "data": {
      "text/plain": [
       "MLPClassifier(hidden_layer_sizes=7, max_iter=10000)"
      ]
     },
     "execution_count": 34,
     "metadata": {},
     "output_type": "execute_result"
    }
   ],
   "source": [
    "neuralNetworkClassifier.fit(X_train, y_train)"
   ]
  },
  {
   "cell_type": "code",
   "execution_count": 35,
   "metadata": {
    "id": "MHAXErds2Xr8"
   },
   "outputs": [
    {
     "name": "stdout",
     "output_type": "stream",
     "text": [
      "The Training accuracy of the model is 0.45\n",
      "The Testing accuracy of the model is 0.49\n"
     ]
    }
   ],
   "source": [
    "print(\"The Training accuracy of the model is {:.2f}\".format(neuralNetworkClassifier.score(X_train, y_train)))\n",
    "print(\"The Testing accuracy of the model is {:.2f}\".format(neuralNetworkClassifier.score(X_test, y_test)))"
   ]
  },
  {
   "cell_type": "code",
   "execution_count": 36,
   "metadata": {},
   "outputs": [
    {
     "name": "stdout",
     "output_type": "stream",
     "text": [
      "0.4918032786885246\n"
     ]
    }
   ],
   "source": [
    "pre_nnc_accuracy = neuralNetworkClassifier.score(X_test,y_test)\n",
    "print(pre_nnc_accuracy)"
   ]
  },
  {
   "cell_type": "code",
   "execution_count": 37,
   "metadata": {
    "id": "NjnKUmR22jU1"
   },
   "outputs": [
    {
     "name": "stdout",
     "output_type": "stream",
     "text": [
      "[0 0 0 0 0 0 0 0 0 0 0 0 0 0 0 0 0 0 0 0 0 0 0 0 0 0 0 0 0 0 0 0 0 0 0 0 0\n",
      " 0 0 0 0 0 0 0 0 0 0 0 0 0 0 0 0 0 0 0 0 0 0 0 0]\n"
     ]
    }
   ],
   "source": [
    "predictions = neuralNetworkClassifier.predict(X_test)\n",
    "print(predictions)"
   ]
  },
  {
   "cell_type": "code",
   "execution_count": 38,
   "metadata": {
    "id": "YVqa1XdM2rC0"
   },
   "outputs": [
    {
     "name": "stdout",
     "output_type": "stream",
     "text": [
      "[[30 31]\n",
      " [ 0  0]]\n"
     ]
    }
   ],
   "source": [
    "from sklearn.metrics import confusion_matrix\n",
    "matrix_NNC=confusion_matrix(predictions, y_test)\n",
    "print(matrix_NNC)"
   ]
  },
  {
   "cell_type": "code",
   "execution_count": 39,
   "metadata": {
    "id": "BJdTXQy621RM"
   },
   "outputs": [
    {
     "data": {
      "text/plain": [
       "<AxesSubplot:>"
      ]
     },
     "execution_count": 39,
     "metadata": {},
     "output_type": "execute_result"
    },
    {
     "data": {
      "image/png": "[encoded data removed]",
      "text/plain": [
       "<Figure size 432x288 with 2 Axes>"
      ]
     },
     "metadata": {
      "needs_background": "light"
     },
     "output_type": "display_data"
    }
   ],
   "source": [
    "from seaborn import heatmap\n",
    "heatmap(matrix_NNC , cmap=\"Pastel1_r\", xticklabels=['class_0' ,'class_1' ,'class_2'], yticklabels=['class_0' ,'class_1', 'class_2'], annot=True)"
   ]
  },
  {
   "cell_type": "markdown",
   "metadata": {
    "id": "4U0eklZvapKh"
   },
   "source": [
    "**performance with dimensionality reduction**\n"
   ]
  },
  {
   "cell_type": "code",
   "execution_count": 40,
   "metadata": {
    "id": "a3mGGkEre1t6"
   },
   "outputs": [],
   "source": [
    "from sklearn.preprocessing import StandardScaler\n",
    "scaler= StandardScaler()"
   ]
  },
  {
   "cell_type": "code",
   "execution_count": null,
   "metadata": {},
   "outputs": [],
   "source": []
  },
  {
   "cell_type": "code",
   "execution_count": 41,
   "metadata": {},
   "outputs": [
    {
     "data": {
      "text/plain": [
       "Index(['age', 'sex', 'cp', 'trestbps', 'chol', 'fbs', 'restecg', 'thalach',\n",
       "       'exang', 'oldpeak', 'slope', 'ca', 'thal', 'target'],\n",
       "      dtype='object')"
      ]
     },
     "execution_count": 41,
     "metadata": {},
     "output_type": "execute_result"
    }
   ],
   "source": [
    "heartClassificationDataNew1.keys()"
   ]
  },
  {
   "cell_type": "code",
   "execution_count": 42,
   "metadata": {},
   "outputs": [
    {
     "data": {
      "text/plain": [
       "(303, 14)"
      ]
     },
     "execution_count": 42,
     "metadata": {},
     "output_type": "execute_result"
    }
   ],
   "source": [
    "heartClassificationDataNew1.shape"
   ]
  },
  {
   "cell_type": "code",
   "execution_count": 43,
   "metadata": {},
   "outputs": [],
   "source": [
    "from sklearn.decomposition import PCA \n",
    "pca = PCA(n_components=7)"
   ]
  },
  {
   "cell_type": "code",
   "execution_count": 44,
   "metadata": {},
   "outputs": [
    {
     "name": "stdout",
     "output_type": "stream",
     "text": [
      "[[-1.23143404e+01  2.83660520e+00  1.49567200e+01 ... -3.36697875e-01\n",
      "   2.69134243e+00  2.51464222e-01]\n",
      " [ 2.39374903e+00 -3.97381838e+01 -2.10546755e-01 ...  2.39599035e+00\n",
      "   2.65596690e+00 -2.39762010e-01]\n",
      " [-4.31461193e+01 -2.32310293e+01  1.05911583e+00 ...  3.59735044e-01\n",
      "   3.52037671e-01 -4.40063823e-01]\n",
      " ...\n",
      " [-5.19484435e+01  1.35545105e+01  1.57413716e+01 ...  2.50145601e+00\n",
      "   6.65035250e-02 -1.32738880e-01]\n",
      " [-1.14496941e+02  3.74955724e+01  2.55117351e+00 ...  2.06253233e-01\n",
      "  -7.81821927e-01 -3.84944373e-01]\n",
      " [-1.06047052e+01 -2.30381090e+01  1.77555275e+00 ...  6.01452707e-02\n",
      "  -6.30196270e-01  2.49283327e-02]]\n"
     ]
    }
   ],
   "source": [
    "principal_components= pca.fit_transform(heartClassificationDataNew1)\n",
    "print(principal_components)"
   ]
  },
  {
   "cell_type": "code",
   "execution_count": 45,
   "metadata": {},
   "outputs": [
    {
     "data": {
      "text/plain": [
       "array([7.52762769e-01, 1.44227686e-01, 8.53545836e-02, 1.63383344e-02,\n",
       "       4.03376020e-04, 2.85938594e-04, 2.30152137e-04])"
      ]
     },
     "execution_count": 45,
     "metadata": {},
     "output_type": "execute_result"
    }
   ],
   "source": [
    "pca.explained_variance_ratio_"
   ]
  },
  {
   "cell_type": "code",
   "execution_count": 46,
   "metadata": {},
   "outputs": [
    {
     "data": {
      "text/plain": [
       "0.9996028400787978"
      ]
     },
     "execution_count": 46,
     "metadata": {},
     "output_type": "execute_result"
    }
   ],
   "source": [
    "sum(pca.explained_variance_ratio_)"
   ]
  },
  {
   "cell_type": "code",
   "execution_count": 47,
   "metadata": {},
   "outputs": [],
   "source": [
    "principal_df = pd.DataFrame(data=principal_components, columns=[\"principle component 1\", \"principle component 2\",\"principle component 3\",\"principle component 4\",\"principle component 5\",\"principle component 6\",\"principle component 7\"])\n",
    "#principal_df.head()\n",
    "main_df=pd.concat([principal_df, heartClassificationDataNew1[['target']]], axis=1)"
   ]
  },
  {
   "cell_type": "code",
   "execution_count": 48,
   "metadata": {},
   "outputs": [
    {
     "data": {
      "text/html": [
       "<div>\n",
       "<style scoped>\n",
       "    .dataframe tbody tr th:only-of-type {\n",
       "        vertical-align: middle;\n",
       "    }\n",
       "\n",
       "    .dataframe tbody tr th {\n",
       "        vertical-align: top;\n",
       "    }\n",
       "\n",
       "    .dataframe thead th {\n",
       "        text-align: right;\n",
       "    }\n",
       "</style>\n",
       "<table border=\"1\" class=\"dataframe\">\n",
       "  <thead>\n",
       "    <tr style=\"text-align: right;\">\n",
       "      <th></th>\n",
       "      <th>principle component 1</th>\n",
       "      <th>principle component 2</th>\n",
       "      <th>principle component 3</th>\n",
       "      <th>principle component 4</th>\n",
       "      <th>principle component 5</th>\n",
       "      <th>principle component 6</th>\n",
       "      <th>principle component 7</th>\n",
       "      <th>target</th>\n",
       "    </tr>\n",
       "  </thead>\n",
       "  <tbody>\n",
       "    <tr>\n",
       "      <th>0</th>\n",
       "      <td>-12.314340</td>\n",
       "      <td>2.836605</td>\n",
       "      <td>14.956720</td>\n",
       "      <td>6.773855</td>\n",
       "      <td>-0.336698</td>\n",
       "      <td>2.691342</td>\n",
       "      <td>0.251464</td>\n",
       "      <td>1</td>\n",
       "    </tr>\n",
       "    <tr>\n",
       "      <th>1</th>\n",
       "      <td>2.393749</td>\n",
       "      <td>-39.738184</td>\n",
       "      <td>-0.210547</td>\n",
       "      <td>-10.416866</td>\n",
       "      <td>2.395990</td>\n",
       "      <td>2.655967</td>\n",
       "      <td>-0.239762</td>\n",
       "      <td>1</td>\n",
       "    </tr>\n",
       "    <tr>\n",
       "      <th>2</th>\n",
       "      <td>-43.146119</td>\n",
       "      <td>-23.231029</td>\n",
       "      <td>1.059116</td>\n",
       "      <td>-7.748031</td>\n",
       "      <td>0.359735</td>\n",
       "      <td>0.352038</td>\n",
       "      <td>-0.440064</td>\n",
       "      <td>1</td>\n",
       "    </tr>\n",
       "    <tr>\n",
       "      <th>3</th>\n",
       "      <td>-11.185782</td>\n",
       "      <td>-27.951015</td>\n",
       "      <td>-7.773746</td>\n",
       "      <td>8.463478</td>\n",
       "      <td>0.044467</td>\n",
       "      <td>0.157199</td>\n",
       "      <td>-0.690657</td>\n",
       "      <td>1</td>\n",
       "    </tr>\n",
       "    <tr>\n",
       "      <th>4</th>\n",
       "      <td>107.385742</td>\n",
       "      <td>-15.040514</td>\n",
       "      <td>-3.792782</td>\n",
       "      <td>1.663424</td>\n",
       "      <td>-0.392592</td>\n",
       "      <td>-0.574847</td>\n",
       "      <td>-1.204735</td>\n",
       "      <td>1</td>\n",
       "    </tr>\n",
       "  </tbody>\n",
       "</table>\n",
       "</div>"
      ],
      "text/plain": [
       "   principle component 1  principle component 2  principle component 3  \\\n",
       "0             -12.314340               2.836605              14.956720   \n",
       "1               2.393749             -39.738184              -0.210547   \n",
       "2             -43.146119             -23.231029               1.059116   \n",
       "3             -11.185782             -27.951015              -7.773746   \n",
       "4             107.385742             -15.040514              -3.792782   \n",
       "\n",
       "   principle component 4  principle component 5  principle component 6  \\\n",
       "0               6.773855              -0.336698               2.691342   \n",
       "1             -10.416866               2.395990               2.655967   \n",
       "2              -7.748031               0.359735               0.352038   \n",
       "3               8.463478               0.044467               0.157199   \n",
       "4               1.663424              -0.392592              -0.574847   \n",
       "\n",
       "   principle component 7  target  \n",
       "0               0.251464       1  \n",
       "1              -0.239762       1  \n",
       "2              -0.440064       1  \n",
       "3              -0.690657       1  \n",
       "4              -1.204735       1  "
      ]
     },
     "execution_count": 48,
     "metadata": {},
     "output_type": "execute_result"
    }
   ],
   "source": [
    "main_df.head()"
   ]
  },
  {
   "cell_type": "code",
   "execution_count": 49,
   "metadata": {},
   "outputs": [],
   "source": [
    "X= main_df.drop(\"target\" , axis=1)\n",
    "y= main_df[\"target\"]"
   ]
  },
  {
   "cell_type": "code",
   "execution_count": 50,
   "metadata": {},
   "outputs": [],
   "source": [
    "x_train, x_test, Y_train, Y_test = train_test_split(X , y , test_size=0.2, random_state=42)"
   ]
  },
  {
   "cell_type": "code",
   "execution_count": 51,
   "metadata": {},
   "outputs": [
    {
     "data": {
      "text/plain": [
       "principle component 1    0\n",
       "principle component 2    0\n",
       "principle component 3    0\n",
       "principle component 4    0\n",
       "principle component 5    0\n",
       "principle component 6    0\n",
       "principle component 7    0\n",
       "target                   0\n",
       "dtype: int64"
      ]
     },
     "execution_count": 51,
     "metadata": {},
     "output_type": "execute_result"
    }
   ],
   "source": [
    "main_df.isnull().sum()"
   ]
  },
  {
   "cell_type": "code",
   "execution_count": 52,
   "metadata": {},
   "outputs": [
    {
     "data": {
      "text/plain": [
       "SVC(kernel='linear')"
      ]
     },
     "execution_count": 52,
     "metadata": {},
     "output_type": "execute_result"
    }
   ],
   "source": [
    "from sklearn.svm import SVC\n",
    "svc = SVC(kernel=\"linear\")\n",
    "svc.fit(x_train, Y_train)"
   ]
  },
  {
   "cell_type": "code",
   "execution_count": 53,
   "metadata": {},
   "outputs": [
    {
     "name": "stdout",
     "output_type": "stream",
     "text": [
      "Training accuracy of the model is 0.84\n",
      "Testing accuracy of the model is 0.87\n"
     ]
    }
   ],
   "source": [
    "print(\"Training accuracy of the model is {:.2f}\".format(svc.score(x_train, Y_train)))\n",
    "print(\"Testing accuracy of the model is {:.2f}\".format(svc.score(x_test, Y_test)))"
   ]
  },
  {
   "cell_type": "code",
   "execution_count": 54,
   "metadata": {},
   "outputs": [
    {
     "name": "stdout",
     "output_type": "stream",
     "text": [
      "0.8688524590163934\n"
     ]
    }
   ],
   "source": [
    "post_svm_accuracy = svc.score(x_test,Y_test)\n",
    "print(post_svm_accuracy)"
   ]
  },
  {
   "cell_type": "code",
   "execution_count": 55,
   "metadata": {},
   "outputs": [
    {
     "name": "stdout",
     "output_type": "stream",
     "text": [
      "[0 1 1 0 1 1 1 0 0 1 1 0 1 0 1 1 1 0 0 0 1 0 0 0 1 1 1 1 0 1 0 0 0 0 1 0 1\n",
      " 1 1 1 0 1 1 1 1 0 0 1 0 0 0 0 1 1 0 0 0 1 0 0 0]\n"
     ]
    }
   ],
   "source": [
    "predictions = svc.predict(x_test)\n",
    "print(predictions)"
   ]
  },
  {
   "cell_type": "code",
   "execution_count": 56,
   "metadata": {},
   "outputs": [
    {
     "name": "stdout",
     "output_type": "stream",
     "text": [
      "[[26  5]\n",
      " [ 3 27]]\n"
     ]
    }
   ],
   "source": [
    "from sklearn.metrics import confusion_matrix\n",
    "mat=confusion_matrix(predictions, Y_test)\n",
    "print(mat)"
   ]
  },
  {
   "cell_type": "code",
   "execution_count": 57,
   "metadata": {},
   "outputs": [
    {
     "data": {
      "text/plain": [
       "<AxesSubplot:>"
      ]
     },
     "execution_count": 57,
     "metadata": {},
     "output_type": "execute_result"
    },
    {
     "data": {
      "image/png": "[encoded data removed]",
      "text/plain": [
       "<Figure size 432x288 with 2 Axes>"
      ]
     },
     "metadata": {
      "needs_background": "light"
     },
     "output_type": "display_data"
    }
   ],
   "source": [
    "from seaborn import heatmap\n",
    "heatmap(mat , cmap=\"Pastel1_r\", xticklabels=['class_0' ,'class_1' ,'class_2'], yticklabels=['class_0' ,'class_1', 'class_2'], annot=True)"
   ]
  },
  {
   "cell_type": "code",
   "execution_count": 58,
   "metadata": {},
   "outputs": [
    {
     "data": {
      "text/plain": [
       "RandomForestClassifier(n_estimators=50)"
      ]
     },
     "execution_count": 58,
     "metadata": {},
     "output_type": "execute_result"
    }
   ],
   "source": [
    "from sklearn.ensemble import RandomForestClassifier\n",
    "rfc = RandomForestClassifier(n_estimators=50)\n",
    "rfc.fit(x_train, Y_train)"
   ]
  },
  {
   "cell_type": "code",
   "execution_count": 59,
   "metadata": {},
   "outputs": [
    {
     "name": "stdout",
     "output_type": "stream",
     "text": [
      "The Training accuracy of the model is 1.00\n",
      "The Testing accuracy of the model is 0.82\n"
     ]
    }
   ],
   "source": [
    "print(\"The Training accuracy of the model is {:.2f}\".format(rfc.score(x_train, Y_train)))\n",
    "print(\"The Testing accuracy of the model is {:.2f}\".format(rfc.score(x_test, Y_test)))"
   ]
  },
  {
   "cell_type": "code",
   "execution_count": 60,
   "metadata": {},
   "outputs": [
    {
     "name": "stdout",
     "output_type": "stream",
     "text": [
      "0.819672131147541\n"
     ]
    }
   ],
   "source": [
    "post_rfc_accuracy = rfc.score(x_test,Y_test)\n",
    "print(post_rfc_accuracy)"
   ]
  },
  {
   "cell_type": "code",
   "execution_count": 61,
   "metadata": {},
   "outputs": [],
   "source": [
    "predictions = rfc.predict(x_test)"
   ]
  },
  {
   "cell_type": "code",
   "execution_count": 62,
   "metadata": {},
   "outputs": [
    {
     "name": "stdout",
     "output_type": "stream",
     "text": [
      "[[24  6]\n",
      " [ 5 26]]\n"
     ]
    }
   ],
   "source": [
    "from sklearn.metrics import confusion_matrix\n",
    "mat=confusion_matrix(predictions, Y_test)\n",
    "print(mat)"
   ]
  },
  {
   "cell_type": "code",
   "execution_count": 63,
   "metadata": {},
   "outputs": [
    {
     "data": {
      "text/plain": [
       "<AxesSubplot:>"
      ]
     },
     "execution_count": 63,
     "metadata": {},
     "output_type": "execute_result"
    },
    {
     "data": {
      "image/png": "[encoded data removed]",
      "text/plain": [
       "<Figure size 432x288 with 2 Axes>"
      ]
     },
     "metadata": {
      "needs_background": "light"
     },
     "output_type": "display_data"
    }
   ],
   "source": [
    "from seaborn import heatmap\n",
    "heatmap(mat , cmap=\"Pastel1_r\", xticklabels=['class_0' ,'class_1' ,'class_2'], yticklabels=['class_0' ,'class_1', 'class_2'], annot=True)"
   ]
  },
  {
   "cell_type": "code",
   "execution_count": 64,
   "metadata": {},
   "outputs": [],
   "source": [
    "from sklearn.neural_network import MLPClassifier\n",
    "nnc=MLPClassifier(hidden_layer_sizes=(7), activation=\"relu\", max_iter=10000)"
   ]
  },
  {
   "cell_type": "code",
   "execution_count": 65,
   "metadata": {},
   "outputs": [
    {
     "data": {
      "text/plain": [
       "MLPClassifier(hidden_layer_sizes=7, max_iter=10000)"
      ]
     },
     "execution_count": 65,
     "metadata": {},
     "output_type": "execute_result"
    }
   ],
   "source": [
    "nnc.fit(x_train, Y_train)"
   ]
  },
  {
   "cell_type": "code",
   "execution_count": 66,
   "metadata": {},
   "outputs": [
    {
     "name": "stdout",
     "output_type": "stream",
     "text": [
      "The Training accuracy of the model is 0.83\n",
      "The Testing accuracy of the model is 0.87\n"
     ]
    }
   ],
   "source": [
    "print(\"The Training accuracy of the model is {:.2f}\".format(nnc.score(x_train, Y_train)))\n",
    "print(\"The Testing accuracy of the model is {:.2f}\".format(nnc.score(x_test, Y_test)))"
   ]
  },
  {
   "cell_type": "code",
   "execution_count": 67,
   "metadata": {},
   "outputs": [
    {
     "name": "stdout",
     "output_type": "stream",
     "text": [
      "0.8688524590163934\n"
     ]
    }
   ],
   "source": [
    "post_nnc_accuracy = nnc.score(x_test,Y_test)\n",
    "print(post_nnc_accuracy)"
   ]
  },
  {
   "cell_type": "code",
   "execution_count": 68,
   "metadata": {},
   "outputs": [
    {
     "name": "stdout",
     "output_type": "stream",
     "text": [
      "[0 1 1 0 1 1 1 0 0 1 1 0 1 0 1 1 1 0 0 0 1 0 0 1 1 0 1 1 0 1 0 0 0 0 1 0 0\n",
      " 1 1 1 1 1 1 1 1 0 1 1 0 0 0 0 1 1 1 0 0 1 0 0 0]\n"
     ]
    }
   ],
   "source": [
    "predictions = nnc.predict(x_test)\n",
    "print(predictions)"
   ]
  },
  {
   "cell_type": "code",
   "execution_count": 69,
   "metadata": {},
   "outputs": [
    {
     "name": "stdout",
     "output_type": "stream",
     "text": [
      "[[13 16]\n",
      " [17 15]]\n"
     ]
    }
   ],
   "source": [
    "from sklearn.metrics import confusion_matrix\n",
    "mat=confusion_matrix(predictions, y_test)\n",
    "print(mat)"
   ]
  },
  {
   "cell_type": "code",
   "execution_count": 70,
   "metadata": {},
   "outputs": [
    {
     "data": {
      "text/plain": [
       "<AxesSubplot:>"
      ]
     },
     "execution_count": 70,
     "metadata": {},
     "output_type": "execute_result"
    },
    {
     "data": {
      "image/png": "[encoded data removed]",
      "text/plain": [
       "<Figure size 432x288 with 2 Axes>"
      ]
     },
     "metadata": {
      "needs_background": "light"
     },
     "output_type": "display_data"
    }
   ],
   "source": [
    "from seaborn import heatmap\n",
    "heatmap(mat , cmap=\"Pastel1_r\", xticklabels=['class_0' ,'class_1' ,'class_2'], yticklabels=['class_0' ,'class_1', 'class_2'], annot=True)"
   ]
  },
  {
   "cell_type": "code",
   "execution_count": 71,
   "metadata": {},
   "outputs": [],
   "source": [
    "import matplotlib as mpl\n",
    "import matplotlib.pyplot as plt\n",
    "%matplotlib inline"
   ]
  },
  {
   "cell_type": "code",
   "execution_count": 72,
   "metadata": {},
   "outputs": [],
   "source": [
    "# import seaborn as sns\n",
    "# post=0\n",
    "# pre=1\n",
    "# accuracy = [post,post, post,pre,pre,pre]\n",
    "# post_pca_accuracy = [post_svm_accuracy, post_rfc_accuracy,post_nnc_accuracy,pre_svm_accuracy,pre_rfc_accuracy,pre_nnc_accuracy]\n",
    "# models = ['postSac','postRac','postNac','preSac','preRac','preNac']\n",
    "# df = pd.DataFrame({'accuracy': accuracy,\n",
    "#                     'post_pca_accuracy': post_pca_accuracy,\n",
    "#                   \"Models\": models})\n",
    "\n",
    "# sns.barplot(x=\"Models\", y=\"post_pca_accuracy\", hue=\"accuracy\", data=df)"
   ]
  },
  {
   "cell_type": "code",
   "execution_count": 73,
   "metadata": {},
   "outputs": [
    {
     "data": {
      "image/png": "[encoded data removed]",
      "text/plain": [
       "<Figure size 432x288 with 1 Axes>"
      ]
     },
     "metadata": {
      "needs_background": "light"
     },
     "output_type": "display_data"
    }
   ],
   "source": [
    "import pandas as pd\n",
    "import matplotlib.pyplot as plt\n",
    "\n",
    "df = pd.DataFrame([['post','svm',pre_svm_accuracy],['post','nnc',pre_nnc_accuracy],['post','random forest',pre_rfc_accuracy],['pre','svm',post_svm_accuracy],\n",
    "                   ['pre','nnc',post_nnc_accuracy],['pre','random forest',post_rfc_accuracy]],columns=['group','column','val'])\n",
    "\n",
    "df.pivot(\"column\", \"group\", \"val\").plot(kind='bar')\n",
    "\n",
    "plt.show()"
   ]
  }
 ],
 "metadata": {
  "colab": {
   "name": "SklearnLibrary.ipynb",
   "provenance": []
  },
  "kernelspec": {
   "display_name": "Python 3",
   "language": "python",
   "name": "python3"
  },
  "language_info": {
   "codemirror_mode": {
    "name": "ipython",
    "version": 3
   },
   "file_extension": ".py",
   "mimetype": "text/x-python",
   "name": "python",
   "nbconvert_exporter": "python",
   "pygments_lexer": "ipython3",
   "version": "3.8.8"
  }
 },
 "nbformat": 4,
 "nbformat_minor": 1
}
