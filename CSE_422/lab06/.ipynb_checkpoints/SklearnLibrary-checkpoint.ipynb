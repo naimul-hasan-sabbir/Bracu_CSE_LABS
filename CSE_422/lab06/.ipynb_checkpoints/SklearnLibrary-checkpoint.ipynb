{
 "cells": [
  {
   "cell_type": "code",
   "execution_count": 1,
   "metadata": {
    "id": "JqiC51ph_jJ3"
   },
   "outputs": [],
   "source": [
    "import pandas as pd\n",
    "import numpy as np"
   ]
  },
  {
   "cell_type": "code",
   "execution_count": null,
   "metadata": {
    "colab": {
     "base_uri": "https://localhost:8080/",
     "height": 203
    },
    "id": "EcKjoB2hACZ4",
    "outputId": "8f4e85e7-6f03-4872-c27f-f1a2474d9956"
   },
   "outputs": [],
   "source": [
    "heartClassificationData = pd.read_csv('heart disease classification dataset.csv')\n",
    "#print(heartClassificationData)\n",
    "heartClassificationData.head()"
   ]
  },
  {
   "cell_type": "code",
   "execution_count": null,
   "metadata": {
    "colab": {
     "base_uri": "https://localhost:8080/"
    },
    "id": "gzfdcc_MAFFH",
    "outputId": "ee31ebdc-01f3-4ffd-8dff-de0b5848047c"
   },
   "outputs": [],
   "source": [
    "heartClassificationData.isnull().sum()"
   ]
  },
  {
   "cell_type": "code",
   "execution_count": null,
   "metadata": {
    "colab": {
     "base_uri": "https://localhost:8080/"
    },
    "id": "_-5FjzOQA4XQ",
    "outputId": "3e891b06-8ea4-4872-fc17-efd98a989433"
   },
   "outputs": [],
   "source": [
    "heartClassificationDataNew1 = heartClassificationData.dropna(axis=0,subset = ['trestbps','thalach'])\n",
    "print('After dropping :', heartClassificationDataNew1.shape)"
   ]
  },
  {
   "cell_type": "code",
   "execution_count": null,
   "metadata": {
    "id": "nVaoeo-KA774"
   },
   "outputs": [],
   "source": [
    "heartClassificationDataNew1 = heartClassificationDataNew1.drop('Unnamed: 0',axis = 1)"
   ]
  },
  {
   "cell_type": "code",
   "execution_count": null,
   "metadata": {
    "colab": {
     "base_uri": "https://localhost:8080/"
    },
    "id": "17-hyecpA-5Q",
    "outputId": "7fff610d-bf6a-4715-b487-0c1c19d857df"
   },
   "outputs": [],
   "source": [
    "heartClassificationDataNew1.isnull().sum()"
   ]
  },
  {
   "cell_type": "code",
   "execution_count": null,
   "metadata": {
    "id": "dwpSUYW1BBrw"
   },
   "outputs": [],
   "source": [
    "from sklearn.impute import SimpleImputer\n",
    "\n",
    "impute = SimpleImputer(missing_values=np.nan, strategy='mean')\n",
    "\n",
    "impute.fit(heartClassificationDataNew1[['chol']])\n",
    "\n",
    "heartClassificationDataNew1['chol'] = impute.transform(heartClassificationDataNew1[['chol']])"
   ]
  },
  {
   "cell_type": "code",
   "execution_count": null,
   "metadata": {
    "colab": {
     "base_uri": "https://localhost:8080/"
    },
    "id": "SeQwMW1zBEzQ",
    "outputId": "843ad941-d48a-42d1-80e7-aae34b33e100"
   },
   "outputs": [],
   "source": [
    "from sklearn.preprocessing import LabelEncoder\n",
    "\n",
    "changing = LabelEncoder()\n",
    "\n",
    "heartClassificationDataNew1['sex'] = changing.fit_transform(heartClassificationDataNew1['sex'])\n",
    "\n",
    "print(heartClassificationDataNew1[['sex']].head())"
   ]
  },
  {
   "cell_type": "code",
   "execution_count": null,
   "metadata": {
    "colab": {
     "base_uri": "https://localhost:8080/"
    },
    "id": "4JNOQOpwBJHg",
    "outputId": "025946bd-5bc4-4303-d1f0-5ad43858df63"
   },
   "outputs": [],
   "source": [
    "from sklearn.preprocessing import LabelEncoder\n",
    "\n",
    "changing = LabelEncoder()\n",
    "\n",
    "heartClassificationDataNew1['target'] = changing.fit_transform(heartClassificationDataNew1['target'])\n",
    "\n",
    "print(heartClassificationDataNew1[['target']].head())"
   ]
  },
  {
   "cell_type": "code",
   "execution_count": null,
   "metadata": {
    "id": "0u6MXkavBRH_"
   },
   "outputs": [],
   "source": [
    "from sklearn.model_selection import train_test_split"
   ]
  },
  {
   "cell_type": "code",
   "execution_count": null,
   "metadata": {
    "id": "U2r1FOyaBT7p"
   },
   "outputs": [],
   "source": [
    "x = heartClassificationDataNew1.drop(columns='target',axis=1)\n",
    "y = heartClassificationDataNew1['target'] "
   ]
  },
  {
   "cell_type": "code",
   "execution_count": null,
   "metadata": {
    "colab": {
     "base_uri": "https://localhost:8080/"
    },
    "id": "EH8BjMXdBWyI",
    "outputId": "c022e7c6-ac9b-451e-91c8-302aad588b8b"
   },
   "outputs": [],
   "source": [
    "print(y)"
   ]
  },
  {
   "cell_type": "code",
   "execution_count": null,
   "metadata": {
    "colab": {
     "base_uri": "https://localhost:8080/"
    },
    "id": "MIJ6nK77BY4R",
    "outputId": "1154cbbc-25cc-4f44-e9bd-ce836d4eb405"
   },
   "outputs": [],
   "source": [
    "print(x)"
   ]
  },
  {
   "cell_type": "code",
   "execution_count": null,
   "metadata": {
    "colab": {
     "base_uri": "https://localhost:8080/"
    },
    "id": "tw7NxL5oBbXQ",
    "outputId": "f31e76dd-294a-4594-8f5c-b5e3e99418fe"
   },
   "outputs": [],
   "source": [
    "X_train, X_test, y_train, y_test = train_test_split(x, y, test_size = 0.2, random_state=1)\n",
    "print(X_train.shape)\n",
    "print(X_test.shape)"
   ]
  },
  {
   "cell_type": "code",
   "execution_count": null,
   "metadata": {
    "colab": {
     "base_uri": "https://localhost:8080/"
    },
    "id": "FWptAspVBf1v",
    "outputId": "73b0d575-01be-4fe8-e2ce-19a3423d8fd9"
   },
   "outputs": [],
   "source": [
    "from sklearn.preprocessing import MinMaxScaler\n",
    "\n",
    "scalingDataset = MinMaxScaler()\n",
    "\n",
    "scalingDataset.fit(X_train)"
   ]
  },
  {
   "cell_type": "code",
   "execution_count": null,
   "metadata": {
    "id": "FSuBzVkk0KO9"
   },
   "outputs": [],
   "source": [
    "X_train_scaled = scalingDataset.transform(X_train)"
   ]
  },
  {
   "cell_type": "code",
   "execution_count": null,
   "metadata": {
    "id": "-Am4kIjd0LHs"
   },
   "outputs": [],
   "source": [
    "X_test_scaled = scalingDataset.transform(X_test)"
   ]
  },
  {
   "cell_type": "code",
   "execution_count": null,
   "metadata": {
    "colab": {
     "base_uri": "https://localhost:8080/"
    },
    "id": "3Tsf7dEeyUgk",
    "outputId": "99de8195-4fc2-4061-e8a7-5e153e3bbe69"
   },
   "outputs": [],
   "source": [
    "pip install -U scikit-learn"
   ]
  },
  {
   "cell_type": "markdown",
   "metadata": {
    "id": "zXompwU9aN9h"
   },
   "source": [
    "**Support Vector Machine (SVM)**"
   ]
  },
  {
   "cell_type": "code",
   "execution_count": null,
   "metadata": {
    "colab": {
     "base_uri": "https://localhost:8080/"
    },
    "id": "Jfj9TekKy04Q",
    "outputId": "fc5e421e-0477-4228-a998-4e13909006fa"
   },
   "outputs": [],
   "source": [
    "from sklearn.svm import SVC\n",
    "svc = SVC(kernel=\"linear\")\n",
    "svc.fit(X_train_scaled, y_train)"
   ]
  },
  {
   "cell_type": "code",
   "execution_count": null,
   "metadata": {
    "colab": {
     "base_uri": "https://localhost:8080/"
    },
    "id": "zW4oQCjUy8Hk",
    "outputId": "fc0cd7c6-6831-494b-a298-1f20c64e6e81"
   },
   "outputs": [],
   "source": [
    "print(\"Training accuracy of the model is {:.2f}\".format(svc.score(X_train_scaled, y_train)))\n",
    "print(\"Testing accuracy of the model is {:.2f}\".format(svc.score(X_test_scaled, y_test)))"
   ]
  },
  {
   "cell_type": "code",
   "execution_count": null,
   "metadata": {
    "colab": {
     "base_uri": "https://localhost:8080/"
    },
    "id": "ei09eFn30jRb",
    "outputId": "9fbddcb6-4127-4763-dd45-f9112bf7d703"
   },
   "outputs": [],
   "source": [
    "predictions = svc.predict(X_test_scaled)\n",
    "print(predictions)"
   ]
  },
  {
   "cell_type": "code",
   "execution_count": null,
   "metadata": {
    "colab": {
     "base_uri": "https://localhost:8080/"
    },
    "id": "0EgWJI0f0nFE",
    "outputId": "922dcb65-dfd9-4b85-8c97-5d9d11935637"
   },
   "outputs": [],
   "source": [
    "from sklearn.metrics import confusion_matrix\n",
    "mat=confusion_matrix(predictions, y_test)\n",
    "print(mat)"
   ]
  },
  {
   "cell_type": "code",
   "execution_count": null,
   "metadata": {
    "colab": {
     "base_uri": "https://localhost:8080/",
     "height": 302
    },
    "id": "fRlYc42C0YNN",
    "outputId": "676737d7-f9b3-435b-98c5-d465e536a5aa"
   },
   "outputs": [],
   "source": [
    "from seaborn import heatmap\n",
    "heatmap(mat , cmap=\"Pastel1_r\", xticklabels=['class_0' ,'class_1' ,'class_2'], yticklabels=['class_0' ,'class_1', 'class_2'], annot=True)"
   ]
  },
  {
   "cell_type": "markdown",
   "metadata": {
    "id": "E7_bj2ouadBi"
   },
   "source": [
    "**Random Forest**"
   ]
  },
  {
   "cell_type": "code",
   "execution_count": null,
   "metadata": {
    "colab": {
     "base_uri": "https://localhost:8080/",
     "height": 471
    },
    "id": "LsBEW-U11ONG",
    "outputId": "357b0a05-2b3a-4a7e-deed-1c61c9a0cccb"
   },
   "outputs": [],
   "source": [
    "from sklearn.ensemble import RandomForestClassifier\n",
    "rfc = RandomForestClassifier(n_estimators=50)\n",
    "rfc.fit(X_train_scaled, y_train)"
   ]
  },
  {
   "cell_type": "code",
   "execution_count": null,
   "metadata": {
    "id": "8j4lfnVu1SRk"
   },
   "outputs": [],
   "source": [
    "print(\"The Training accuracy of the model is {:.2f}\".format(rfc.score(X_train, y_train)))\n",
    "print(\"The Testing accuracy of the model is {:.2f}\".format(rfc.score(X_test, y_test)))"
   ]
  },
  {
   "cell_type": "code",
   "execution_count": null,
   "metadata": {
    "id": "sxgbv6Vg1Y-F"
   },
   "outputs": [],
   "source": [
    "predictions = rfc.predict(X_test)"
   ]
  },
  {
   "cell_type": "code",
   "execution_count": null,
   "metadata": {
    "id": "nOuvAIfe1gKc"
   },
   "outputs": [],
   "source": [
    "from sklearn.metrics import confusion_matrix\n",
    "mat=confusion_matrix(predictions, y_test)\n",
    "print(mat)"
   ]
  },
  {
   "cell_type": "code",
   "execution_count": null,
   "metadata": {
    "id": "O2NVNmVe1ii8"
   },
   "outputs": [],
   "source": [
    "from seaborn import heatmap\n",
    "heatmap(mat , cmap=\"Pastel1_r\", xticklabels=['class_0' ,'class_1' ,'class_2'], yticklabels=['class_0' ,'class_1', 'class_2'], annot=True)"
   ]
  },
  {
   "cell_type": "markdown",
   "metadata": {
    "id": "L6eNCQ6caj7p"
   },
   "source": [
    "**Neural Network (Multilayer Perceptron Classifier)**"
   ]
  },
  {
   "cell_type": "code",
   "execution_count": null,
   "metadata": {
    "id": "PZxgcNhg1vml"
   },
   "outputs": [],
   "source": [
    "from sklearn.neural_network import MLPClassifier\n",
    "neuralNetworkClassifier=MLPClassifier(hidden_layer_sizes=(7), activation=\"relu\", max_iter=10000)"
   ]
  },
  {
   "cell_type": "code",
   "execution_count": null,
   "metadata": {
    "id": "Fb8nYjn41-TX"
   },
   "outputs": [],
   "source": [
    "neuralNetworkClassifier.fit(X_train, y_train)"
   ]
  },
  {
   "cell_type": "code",
   "execution_count": null,
   "metadata": {
    "id": "MHAXErds2Xr8"
   },
   "outputs": [],
   "source": [
    "print(\"The Training accuracy of the model is {:.2f}\".format(neuralNetworkClassifier.score(X_train, y_train)))\n",
    "print(\"The Testing accuracy of the model is {:.2f}\".format(neuralNetworkClassifier.score(X_test, y_test)))"
   ]
  },
  {
   "cell_type": "code",
   "execution_count": null,
   "metadata": {
    "id": "NjnKUmR22jU1"
   },
   "outputs": [],
   "source": [
    "predictions = neuralNetworkClassifier.predict(X_test)\n",
    "print(predictions)"
   ]
  },
  {
   "cell_type": "code",
   "execution_count": null,
   "metadata": {
    "id": "YVqa1XdM2rC0"
   },
   "outputs": [],
   "source": [
    "from sklearn.metrics import confusion_matrix\n",
    "matrix_NNC=confusion_matrix(predictions, y_test)\n",
    "print(matrix_NNC)"
   ]
  },
  {
   "cell_type": "code",
   "execution_count": null,
   "metadata": {
    "id": "BJdTXQy621RM"
   },
   "outputs": [],
   "source": [
    "from seaborn import heatmap\n",
    "heatmap(matrix_NNC , cmap=\"Pastel1_r\", xticklabels=['class_0' ,'class_1' ,'class_2'], yticklabels=['class_0' ,'class_1', 'class_2'], annot=True)"
   ]
  },
  {
   "cell_type": "markdown",
   "metadata": {
    "id": "4U0eklZvapKh"
   },
   "source": [
    "**performance with dimensionality reduction**\n"
   ]
  },
  {
   "cell_type": "code",
   "execution_count": null,
   "metadata": {
    "id": "a3mGGkEre1t6"
   },
   "outputs": [],
   "source": [
    "from sklearn.preprocessing import StandardScaler\n",
    "scaler= StandardScaler()"
   ]
  },
  {
   "cell_type": "code",
   "execution_count": null,
   "metadata": {
    "id": "WTjBMFZHiUl0"
   },
   "outputs": [],
   "source": [
    "cancer_df= pd.DataFrame(scaler.fit_transform(heartClassificationDataNew1.data), columns=cancer_data[\"feature_names\"])\n",
    "cancer_df=cancer_df.assign(target=cancer_data.target)"
   ]
  }
 ],
 "metadata": {
  "colab": {
   "name": "SklearnLibrary.ipynb",
   "provenance": []
  },
  "kernelspec": {
   "display_name": "Python 3",
   "language": "python",
   "name": "python3"
  },
  "language_info": {
   "codemirror_mode": {
    "name": "ipython",
    "version": 3
   },
   "file_extension": ".py",
   "mimetype": "text/x-python",
   "name": "python",
   "nbconvert_exporter": "python",
   "pygments_lexer": "ipython3",
   "version": "3.8.8"
  }
 },
 "nbformat": 4,
 "nbformat_minor": 1
}
