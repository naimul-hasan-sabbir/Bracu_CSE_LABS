{
  "nbformat": 4,
  "nbformat_minor": 0,
  "metadata": {
    "colab": {
      "name": "DecisionTree.ipynb",
      "provenance": []
    },
    "kernelspec": {
      "name": "python3",
      "display_name": "Python 3"
    },
    "language_info": {
      "name": "python"
    }
  },
  "cells": [
    {
      "cell_type": "code",
      "metadata": {
        "id": "J3XFMyeyDkd3"
      },
      "source": [
        "import pandas as pd\n",
        "import numpy as np"
      ],
      "execution_count": null,
      "outputs": []
    },
    {
      "cell_type": "code",
      "metadata": {
        "colab": {
          "base_uri": "https://localhost:8080/"
        },
        "id": "7Xj3sff8hkiK",
        "outputId": "ba0b052a-e3f1-4fc8-feb8-07d4d04f6b35"
      },
      "source": [
        "from google.colab import drive\n",
        "drive.mount('/content/drive')"
      ],
      "execution_count": null,
      "outputs": [
        {
          "output_type": "stream",
          "name": "stdout",
          "text": [
            "Drive already mounted at /content/drive; to attempt to forcibly remount, call drive.mount(\"/content/drive\", force_remount=True).\n"
          ]
        }
      ]
    },
    {
      "cell_type": "code",
      "metadata": {
        "colab": {
          "base_uri": "https://localhost:8080/",
          "height": 203
        },
        "id": "wOSXn4eYhwCR",
        "outputId": "600f8313-7c83-4d73-f4b6-7ff0cf489319"
      },
      "source": [
        "heartClassificationData = pd.read_csv('/content/drive/MyDrive/dataset/heart_disease_classification_dataset.csv')\n",
        "#print(heartClassificationData)\n",
        "heartClassificationData.head()"
      ],
      "execution_count": null,
      "outputs": [
        {
          "output_type": "execute_result",
          "data": {
            "text/html": [
              "<div>\n",
              "<style scoped>\n",
              "    .dataframe tbody tr th:only-of-type {\n",
              "        vertical-align: middle;\n",
              "    }\n",
              "\n",
              "    .dataframe tbody tr th {\n",
              "        vertical-align: top;\n",
              "    }\n",
              "\n",
              "    .dataframe thead th {\n",
              "        text-align: right;\n",
              "    }\n",
              "</style>\n",
              "<table border=\"1\" class=\"dataframe\">\n",
              "  <thead>\n",
              "    <tr style=\"text-align: right;\">\n",
              "      <th></th>\n",
              "      <th>Unnamed: 0</th>\n",
              "      <th>age</th>\n",
              "      <th>sex</th>\n",
              "      <th>cp</th>\n",
              "      <th>trestbps</th>\n",
              "      <th>chol</th>\n",
              "      <th>fbs</th>\n",
              "      <th>restecg</th>\n",
              "      <th>thalach</th>\n",
              "      <th>exang</th>\n",
              "      <th>oldpeak</th>\n",
              "      <th>slope</th>\n",
              "      <th>ca</th>\n",
              "      <th>thal</th>\n",
              "      <th>target</th>\n",
              "    </tr>\n",
              "  </thead>\n",
              "  <tbody>\n",
              "    <tr>\n",
              "      <th>0</th>\n",
              "      <td>0</td>\n",
              "      <td>63</td>\n",
              "      <td>male</td>\n",
              "      <td>3</td>\n",
              "      <td>145.0</td>\n",
              "      <td>233.0</td>\n",
              "      <td>1</td>\n",
              "      <td>0</td>\n",
              "      <td>150.0</td>\n",
              "      <td>0</td>\n",
              "      <td>2.3</td>\n",
              "      <td>0</td>\n",
              "      <td>0</td>\n",
              "      <td>1</td>\n",
              "      <td>yes</td>\n",
              "    </tr>\n",
              "    <tr>\n",
              "      <th>1</th>\n",
              "      <td>1</td>\n",
              "      <td>37</td>\n",
              "      <td>male</td>\n",
              "      <td>2</td>\n",
              "      <td>130.0</td>\n",
              "      <td>250.0</td>\n",
              "      <td>0</td>\n",
              "      <td>1</td>\n",
              "      <td>187.0</td>\n",
              "      <td>0</td>\n",
              "      <td>3.5</td>\n",
              "      <td>0</td>\n",
              "      <td>0</td>\n",
              "      <td>2</td>\n",
              "      <td>yes</td>\n",
              "    </tr>\n",
              "    <tr>\n",
              "      <th>2</th>\n",
              "      <td>2</td>\n",
              "      <td>41</td>\n",
              "      <td>female</td>\n",
              "      <td>1</td>\n",
              "      <td>130.0</td>\n",
              "      <td>204.0</td>\n",
              "      <td>0</td>\n",
              "      <td>0</td>\n",
              "      <td>172.0</td>\n",
              "      <td>0</td>\n",
              "      <td>1.4</td>\n",
              "      <td>2</td>\n",
              "      <td>0</td>\n",
              "      <td>2</td>\n",
              "      <td>yes</td>\n",
              "    </tr>\n",
              "    <tr>\n",
              "      <th>3</th>\n",
              "      <td>3</td>\n",
              "      <td>56</td>\n",
              "      <td>male</td>\n",
              "      <td>1</td>\n",
              "      <td>120.0</td>\n",
              "      <td>236.0</td>\n",
              "      <td>0</td>\n",
              "      <td>1</td>\n",
              "      <td>178.0</td>\n",
              "      <td>0</td>\n",
              "      <td>0.8</td>\n",
              "      <td>2</td>\n",
              "      <td>0</td>\n",
              "      <td>2</td>\n",
              "      <td>yes</td>\n",
              "    </tr>\n",
              "    <tr>\n",
              "      <th>4</th>\n",
              "      <td>4</td>\n",
              "      <td>57</td>\n",
              "      <td>female</td>\n",
              "      <td>0</td>\n",
              "      <td>NaN</td>\n",
              "      <td>354.0</td>\n",
              "      <td>0</td>\n",
              "      <td>1</td>\n",
              "      <td>163.0</td>\n",
              "      <td>1</td>\n",
              "      <td>0.6</td>\n",
              "      <td>2</td>\n",
              "      <td>0</td>\n",
              "      <td>2</td>\n",
              "      <td>yes</td>\n",
              "    </tr>\n",
              "  </tbody>\n",
              "</table>\n",
              "</div>"
            ],
            "text/plain": [
              "   Unnamed: 0  age     sex  cp  trestbps  ...  oldpeak  slope  ca  thal  target\n",
              "0           0   63    male   3     145.0  ...      2.3      0   0     1     yes\n",
              "1           1   37    male   2     130.0  ...      3.5      0   0     2     yes\n",
              "2           2   41  female   1     130.0  ...      1.4      2   0     2     yes\n",
              "3           3   56    male   1     120.0  ...      0.8      2   0     2     yes\n",
              "4           4   57  female   0       NaN  ...      0.6      2   0     2     yes\n",
              "\n",
              "[5 rows x 15 columns]"
            ]
          },
          "metadata": {},
          "execution_count": 81
        }
      ]
    },
    {
      "cell_type": "code",
      "metadata": {
        "colab": {
          "base_uri": "https://localhost:8080/"
        },
        "id": "0Xu8z47Oh-3S",
        "outputId": "7ceaed9b-1877-415d-fd45-ff5c5a9002ce"
      },
      "source": [
        "heartClassificationData.isnull().sum()"
      ],
      "execution_count": null,
      "outputs": [
        {
          "output_type": "execute_result",
          "data": {
            "text/plain": [
              "Unnamed: 0    0\n",
              "age           0\n",
              "sex           0\n",
              "cp            0\n",
              "trestbps      4\n",
              "chol          1\n",
              "fbs           0\n",
              "restecg       0\n",
              "thalach       5\n",
              "exang         0\n",
              "oldpeak       0\n",
              "slope         0\n",
              "ca            0\n",
              "thal          0\n",
              "target        0\n",
              "dtype: int64"
            ]
          },
          "metadata": {},
          "execution_count": 82
        }
      ]
    },
    {
      "cell_type": "code",
      "metadata": {
        "colab": {
          "base_uri": "https://localhost:8080/"
        },
        "id": "K-gzX2dciK5a",
        "outputId": "5eae443d-7ebe-4586-f9a2-b8f3468fc956"
      },
      "source": [
        "heartClassificationDataNew1 = heartClassificationData.dropna(axis=0,subset = ['trestbps','thalach'])\n",
        "print('After dropping :', heartClassificationDataNew1.shape)"
      ],
      "execution_count": null,
      "outputs": [
        {
          "output_type": "stream",
          "name": "stdout",
          "text": [
            "After dropping : (294, 15)\n"
          ]
        }
      ]
    },
    {
      "cell_type": "code",
      "metadata": {
        "id": "nVFUKnROvHGc"
      },
      "source": [
        "heartClassificationDataNew1 = heartClassificationDataNew1.drop('Unnamed: 0',axis = 1)"
      ],
      "execution_count": null,
      "outputs": []
    },
    {
      "cell_type": "code",
      "metadata": {
        "colab": {
          "base_uri": "https://localhost:8080/"
        },
        "id": "tKG34RbwiOfK",
        "outputId": "7dec7957-3173-4873-9275-33539fcfe6ec"
      },
      "source": [
        "heartClassificationDataNew1.isnull().sum()"
      ],
      "execution_count": null,
      "outputs": [
        {
          "output_type": "execute_result",
          "data": {
            "text/plain": [
              "age         0\n",
              "sex         0\n",
              "cp          0\n",
              "trestbps    0\n",
              "chol        1\n",
              "fbs         0\n",
              "restecg     0\n",
              "thalach     0\n",
              "exang       0\n",
              "oldpeak     0\n",
              "slope       0\n",
              "ca          0\n",
              "thal        0\n",
              "target      0\n",
              "dtype: int64"
            ]
          },
          "metadata": {},
          "execution_count": 85
        }
      ]
    },
    {
      "cell_type": "code",
      "metadata": {
        "id": "36qkhAhBiTHy"
      },
      "source": [
        "from sklearn.impute import SimpleImputer\n",
        "\n",
        "impute = SimpleImputer(missing_values=np.nan, strategy='mean')\n",
        "\n",
        "impute.fit(heartClassificationDataNew1[['chol']])\n",
        "\n",
        "heartClassificationDataNew1['chol'] = impute.transform(heartClassificationDataNew1[['chol']])"
      ],
      "execution_count": null,
      "outputs": []
    },
    {
      "cell_type": "code",
      "metadata": {
        "colab": {
          "base_uri": "https://localhost:8080/"
        },
        "id": "H2soLhAbiXPz",
        "outputId": "a12241d7-d91b-459a-f40c-e47d6012d662"
      },
      "source": [
        "heartClassificationDataNew1.isnull().sum()"
      ],
      "execution_count": null,
      "outputs": [
        {
          "output_type": "execute_result",
          "data": {
            "text/plain": [
              "age         0\n",
              "sex         0\n",
              "cp          0\n",
              "trestbps    0\n",
              "chol        0\n",
              "fbs         0\n",
              "restecg     0\n",
              "thalach     0\n",
              "exang       0\n",
              "oldpeak     0\n",
              "slope       0\n",
              "ca          0\n",
              "thal        0\n",
              "target      0\n",
              "dtype: int64"
            ]
          },
          "metadata": {},
          "execution_count": 87
        }
      ]
    },
    {
      "cell_type": "code",
      "metadata": {
        "colab": {
          "base_uri": "https://localhost:8080/"
        },
        "id": "UHn13WovieDS",
        "outputId": "f9c124d4-0e7a-459a-865d-d00d1e39edb6"
      },
      "source": [
        "from sklearn.preprocessing import LabelEncoder\n",
        "\n",
        "changing = LabelEncoder()\n",
        "\n",
        "heartClassificationDataNew1['sex'] = changing.fit_transform(heartClassificationDataNew1['sex'])\n",
        "\n",
        "print(heartClassificationDataNew1[['sex']].head())"
      ],
      "execution_count": null,
      "outputs": [
        {
          "output_type": "stream",
          "name": "stdout",
          "text": [
            "   sex\n",
            "0    1\n",
            "1    1\n",
            "2    0\n",
            "3    1\n",
            "5    1\n"
          ]
        }
      ]
    },
    {
      "cell_type": "code",
      "metadata": {
        "colab": {
          "base_uri": "https://localhost:8080/"
        },
        "id": "AehiCtPslk7b",
        "outputId": "361c11e0-a043-43df-80d8-a5b411dc8ab8"
      },
      "source": [
        "from sklearn.preprocessing import LabelEncoder\n",
        "\n",
        "changing = LabelEncoder()\n",
        "\n",
        "heartClassificationDataNew1['target'] = changing.fit_transform(heartClassificationDataNew1['target'])\n",
        "\n",
        "print(heartClassificationDataNew1[['target']].head())"
      ],
      "execution_count": null,
      "outputs": [
        {
          "output_type": "stream",
          "name": "stdout",
          "text": [
            "   target\n",
            "0       1\n",
            "1       1\n",
            "2       1\n",
            "3       1\n",
            "5       1\n"
          ]
        }
      ]
    },
    {
      "cell_type": "code",
      "metadata": {
        "id": "F_O764Jmimoy"
      },
      "source": [
        "from sklearn.model_selection import train_test_split"
      ],
      "execution_count": null,
      "outputs": []
    },
    {
      "cell_type": "code",
      "metadata": {
        "id": "296-OfKaisNi"
      },
      "source": [
        "x = heartClassificationDataNew1.drop(columns='target',axis=1)\n",
        "y = heartClassificationDataNew1['target'] "
      ],
      "execution_count": null,
      "outputs": []
    },
    {
      "cell_type": "code",
      "metadata": {
        "colab": {
          "base_uri": "https://localhost:8080/"
        },
        "id": "BAAR1LATivF6",
        "outputId": "99c9fb37-7da0-4306-d3c3-b9f2af553727"
      },
      "source": [
        "print(y)"
      ],
      "execution_count": null,
      "outputs": [
        {
          "output_type": "stream",
          "name": "stdout",
          "text": [
            "0      1\n",
            "1      1\n",
            "2      1\n",
            "3      1\n",
            "5      1\n",
            "      ..\n",
            "296    0\n",
            "298    0\n",
            "299    0\n",
            "300    0\n",
            "302    0\n",
            "Name: target, Length: 294, dtype: int64\n"
          ]
        }
      ]
    },
    {
      "cell_type": "code",
      "metadata": {
        "colab": {
          "base_uri": "https://localhost:8080/"
        },
        "id": "9yUcdWbsl8L1",
        "outputId": "0f0227bd-1efd-4767-d494-e39679b1c3a1"
      },
      "source": [
        "print(x)"
      ],
      "execution_count": null,
      "outputs": [
        {
          "output_type": "stream",
          "name": "stdout",
          "text": [
            "     age  sex  cp  trestbps   chol  ...  exang  oldpeak  slope  ca  thal\n",
            "0     63    1   3     145.0  233.0  ...      0      2.3      0   0     1\n",
            "1     37    1   2     130.0  250.0  ...      0      3.5      0   0     2\n",
            "2     41    0   1     130.0  204.0  ...      0      1.4      2   0     2\n",
            "3     56    1   1     120.0  236.0  ...      0      0.8      2   0     2\n",
            "5     57    1   0     140.0  192.0  ...      0      0.4      1   0     1\n",
            "..   ...  ...  ..       ...    ...  ...    ...      ...    ...  ..   ...\n",
            "296   63    0   0     124.0  197.0  ...      1      0.0      1   0     2\n",
            "298   57    0   0     140.0  241.0  ...      1      0.2      1   0     3\n",
            "299   45    1   3     110.0  264.0  ...      0      1.2      1   0     3\n",
            "300   68    1   0     144.0  193.0  ...      0      3.4      1   2     3\n",
            "302   57    0   1     130.0  236.0  ...      0      0.0      1   1     2\n",
            "\n",
            "[294 rows x 13 columns]\n"
          ]
        }
      ]
    },
    {
      "cell_type": "code",
      "metadata": {
        "colab": {
          "base_uri": "https://localhost:8080/"
        },
        "id": "wiHOZZksmbij",
        "outputId": "c8323e99-3017-4da8-c0ec-e3b58da0bc1d"
      },
      "source": [
        "X_train, X_test, y_train, y_test = train_test_split(x, y, test_size = 0.2, random_state=1)\n",
        "print(X_train.shape)\n",
        "print(X_test.shape)"
      ],
      "execution_count": null,
      "outputs": [
        {
          "output_type": "stream",
          "name": "stdout",
          "text": [
            "(235, 13)\n",
            "(59, 13)\n"
          ]
        }
      ]
    },
    {
      "cell_type": "code",
      "metadata": {
        "colab": {
          "base_uri": "https://localhost:8080/"
        },
        "id": "ZU3kYX95nQj0",
        "outputId": "b2d8b19d-e165-4e3d-b08f-958203aaaa99"
      },
      "source": [
        "from sklearn.preprocessing import MinMaxScaler\n",
        "\n",
        "scalingDataset = MinMaxScaler()\n",
        "\n",
        "scalingDataset.fit(X_train)"
      ],
      "execution_count": null,
      "outputs": [
        {
          "output_type": "execute_result",
          "data": {
            "text/plain": [
              "MinMaxScaler(copy=True, feature_range=(0, 1))"
            ]
          },
          "metadata": {},
          "execution_count": 95
        }
      ]
    },
    {
      "cell_type": "code",
      "metadata": {
        "id": "PXC_nq0JonZM"
      },
      "source": [
        "X_train_scaled = scalingDataset.transform(X_train)"
      ],
      "execution_count": null,
      "outputs": []
    },
    {
      "cell_type": "code",
      "metadata": {
        "id": "XHESFiSaorvb"
      },
      "source": [
        "X_test_scaled = scalingDataset.transform(X_test)"
      ],
      "execution_count": null,
      "outputs": []
    },
    {
      "cell_type": "code",
      "metadata": {
        "colab": {
          "base_uri": "https://localhost:8080/"
        },
        "id": "ZlursI6ooyMU",
        "outputId": "b6176891-71f9-4099-fbd8-a7d9d0d22cfc"
      },
      "source": [
        "from sklearn.linear_model import LinearRegression\n",
        "logicRegInstance = LinearRegression()\n",
        "logicRegInstance.fit(X_train, y_train)\n",
        "y_prediction = logicRegInstance.predict(X_test)\n",
        "y_prediction"
      ],
      "execution_count": null,
      "outputs": [
        {
          "output_type": "execute_result",
          "data": {
            "text/plain": [
              "array([ 0.42411191,  0.20684489,  0.62403135,  0.84142128,  0.62130536,\n",
              "        0.67100197,  0.66755386,  0.37945297,  0.65321788,  0.63404593,\n",
              "        0.31650924,  0.59504564,  0.38292886,  0.84252971,  0.01849821,\n",
              "        0.48574183,  0.63476703,  0.62625609,  0.51689867,  0.17022417,\n",
              "        0.68857216,  1.1494282 ,  0.23408389,  0.7427308 ,  0.26917844,\n",
              "        0.20137913,  0.63146178,  0.59096841,  1.03139095,  0.52383892,\n",
              "        0.81881171,  0.26679686,  0.17912639,  0.80054956,  0.13876684,\n",
              "        0.88697774,  0.56551098,  1.31577288,  0.21874484,  0.66590488,\n",
              "        0.96048686,  1.14434689,  0.53672799,  0.61053644,  1.03829907,\n",
              "        1.06635268,  0.63146178,  0.5950644 , -0.18279373,  0.75935745,\n",
              "        1.00284418,  0.47074744,  0.20871271,  0.03381604, -0.16737866,\n",
              "        0.21263499,  0.74741232,  0.86321477,  0.63675551])"
            ]
          },
          "metadata": {},
          "execution_count": 98
        }
      ]
    },
    {
      "cell_type": "code",
      "metadata": {
        "id": "ooxzz0XqpGyl"
      },
      "source": [
        "# Import the dependencies for logistic regression\n",
        "import matplotlib.pyplot as plt\n",
        "import seaborn as sns\n",
        "from sklearn.linear_model import LogisticRegression\n",
        "from sklearn.metrics import classification_report\n",
        "from sklearn.metrics import accuracy_score\n",
        "from sklearn.model_selection import train_test_split"
      ],
      "execution_count": null,
      "outputs": []
    },
    {
      "cell_type": "code",
      "metadata": {
        "colab": {
          "base_uri": "https://localhost:8080/"
        },
        "id": "6mYqXHtIwWHV",
        "outputId": "5cfc8d58-3223-4bec-ae9b-3ee90215f0b7"
      },
      "source": [
        "#Train the model\n",
        "heartClassificationData_model = LogisticRegression()\n",
        "heartClassificationData_model.fit(X_train, y_train) #Training the model\n",
        "prediction = heartClassificationData_model.predict(X_test)\n",
        "print(prediction)# printing predictions"
      ],
      "execution_count": null,
      "outputs": [
        {
          "output_type": "stream",
          "name": "stdout",
          "text": [
            "[0 0 1 1 1 1 1 0 1 1 0 1 0 1 0 1 1 1 1 0 1 1 0 1 0 0 1 1 1 0 1 0 0 1 0 1 0\n",
            " 1 0 1 1 1 1 1 1 1 1 1 0 1 1 1 0 0 0 0 1 1 1]\n"
          ]
        },
        {
          "output_type": "stream",
          "name": "stderr",
          "text": [
            "/usr/local/lib/python3.7/dist-packages/sklearn/linear_model/_logistic.py:940: ConvergenceWarning: lbfgs failed to converge (status=1):\n",
            "STOP: TOTAL NO. of ITERATIONS REACHED LIMIT.\n",
            "\n",
            "Increase the number of iterations (max_iter) or scale the data as shown in:\n",
            "    https://scikit-learn.org/stable/modules/preprocessing.html\n",
            "Please also refer to the documentation for alternative solver options:\n",
            "    https://scikit-learn.org/stable/modules/linear_model.html#logistic-regression\n",
            "  extra_warning_msg=_LOGISTIC_SOLVER_CONVERGENCE_MSG)\n"
          ]
        }
      ]
    },
    {
      "cell_type": "code",
      "metadata": {
        "id": "YiXl1U49Yw_b"
      },
      "source": [
        "logisticRegInstance_score = accuracy_score(y_test, predictions)"
      ],
      "execution_count": null,
      "outputs": []
    },
    {
      "cell_type": "code",
      "metadata": {
        "colab": {
          "base_uri": "https://localhost:8080/"
        },
        "id": "hnX8rD7RZFwv",
        "outputId": "731ec2bb-bcea-4b0b-f04a-b8bb1bac4728"
      },
      "source": [
        "print(logisticRegInstance_score)"
      ],
      "execution_count": null,
      "outputs": [
        {
          "output_type": "stream",
          "name": "stdout",
          "text": [
            "0.7966101694915254\n"
          ]
        }
      ]
    },
    {
      "cell_type": "code",
      "metadata": {
        "colab": {
          "base_uri": "https://localhost:8080/"
        },
        "id": "m2Ir4a6xwznF",
        "outputId": "b66f2f39-e42b-4191-b865-1701884b74a6"
      },
      "source": [
        "print( accuracy_score(y_test, predictions))"
      ],
      "execution_count": null,
      "outputs": [
        {
          "output_type": "stream",
          "name": "stdout",
          "text": [
            "0.7966101694915254\n"
          ]
        }
      ]
    },
    {
      "cell_type": "code",
      "metadata": {
        "id": "2lZ-qnImyszO"
      },
      "source": [
        ""
      ],
      "execution_count": null,
      "outputs": []
    },
    {
      "cell_type": "code",
      "metadata": {
        "colab": {
          "base_uri": "https://localhost:8080/"
        },
        "id": "tuOpxJQoD4K-",
        "outputId": "de851905-2abe-4cc7-8014-e79ccfd721fa"
      },
      "source": [
        "from sklearn.tree import DecisionTreeClassifier\n",
        "from sklearn.metrics import accuracy_score\n",
        "#animal = pd.read_csv(\"zoo.csv\")\n",
        "from sklearn.model_selection import train_test_split\n",
        "#X_train,X_test,y_train,y_test = train_test_split(X,y,test_size=0.2,random_state=1)\n",
        "logicRegInstance = DecisionTreeClassifier(criterion='entropy',random_state=1)\n",
        "logicRegInstance.fit(X_train,y_train)\n",
        "y_prediction = logicRegInstance.predict(X_test)\n",
        "decisionTree_score=accuracy_score(y_prediction,y_test)\n",
        "print(decisionTree_score)"
      ],
      "execution_count": null,
      "outputs": [
        {
          "output_type": "stream",
          "name": "stdout",
          "text": [
            "0.7627118644067796\n"
          ]
        }
      ]
    },
    {
      "cell_type": "code",
      "metadata": {
        "id": "5orgMcMPYRbM"
      },
      "source": [
        "import matplotlib as mpl\n",
        "import matplotlib.pyplot as plt\n",
        "%matplotlib inline"
      ],
      "execution_count": null,
      "outputs": []
    },
    {
      "cell_type": "code",
      "metadata": {
        "id": "w2mSlQUDYn8N"
      },
      "source": [
        "x = ['logisticRegInstance_score','decisionTree_score']\n",
        "y = [logisticRegInstance_score,decisionTree_score]"
      ],
      "execution_count": null,
      "outputs": []
    },
    {
      "cell_type": "code",
      "metadata": {
        "colab": {
          "base_uri": "https://localhost:8080/",
          "height": 296
        },
        "id": "D3Dy0udlc76t",
        "outputId": "73fb7cd3-5224-447a-cc55-4a93582d8757"
      },
      "source": [
        "# Simple Bar Plot\n",
        "plt.bar(x,y)\n",
        "plt.xlabel('accuracyScore')\n",
        "plt.ylabel(\"Values\")\n",
        "plt.title('accuracy score Bar Plot')\n",
        "plt.show()"
      ],
      "execution_count": null,
      "outputs": [
        {
          "output_type": "display_data",
          "data": {
            "image/png": "[encoded data removed]",
            "text/plain": [
              "<Figure size 432x288 with 1 Axes>"
            ]
          },
          "metadata": {
            "needs_background": "light"
          }
        }
      ]
    }
  ]
}